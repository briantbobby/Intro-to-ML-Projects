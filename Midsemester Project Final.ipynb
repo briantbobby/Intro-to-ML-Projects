{
 "cells": [
  {
   "cell_type": "markdown",
   "metadata": {},
   "source": [
    "### Gregory Bodik (gnb23) and Brian Bobby (btb68)"
   ]
  },
  {
   "cell_type": "code",
   "execution_count": 1,
   "metadata": {},
   "outputs": [],
   "source": [
    "import pandas as pd\n",
    "import matplotlib.pyplot as plt"
   ]
  },
  {
   "cell_type": "markdown",
   "metadata": {},
   "source": [
    "# Background\n",
    "The dataset we chose comes from spotify and cosists of their top 100 tracks for the year 2018. For each song it includes data on common musical characterestistics like the tempo, key, or mode (major or minor), and also more uncommon features quantified by spotify like speechiness, valence (how happy a song is/musical positiveness), or acousticness. In visualizing and analyzing this dataset, we wanted to try to appraoch the question: What features define or are common to the top musical tracks of 2018? We hoped to answer this question by looking at features like the songs' duration, and aspects of the emotion and mood of the songs as shown in the analysis below. \n",
    "The dataset can be found at: https://www.kaggle.com/nadintamer/top-spotify-tracks-of-2018"
   ]
  },
  {
   "cell_type": "markdown",
   "metadata": {},
   "source": [
    "# Data Processing\n",
    "## Replace NaN Values with the mean of the column\n",
    "If the data contained NaN values, we would replace them with the mean for that particular column with the code as shown below. This data comes from spotify and is applicable to all the songs in the dataset, so there are no NaN values. "
   ]
  },
  {
   "cell_type": "code",
   "execution_count": 2,
   "metadata": {},
   "outputs": [
    {
     "data": {
      "text/html": [
       "<div>\n",
       "<style scoped>\n",
       "    .dataframe tbody tr th:only-of-type {\n",
       "        vertical-align: middle;\n",
       "    }\n",
       "\n",
       "    .dataframe tbody tr th {\n",
       "        vertical-align: top;\n",
       "    }\n",
       "\n",
       "    .dataframe thead th {\n",
       "        text-align: right;\n",
       "    }\n",
       "</style>\n",
       "<table border=\"1\" class=\"dataframe\">\n",
       "  <thead>\n",
       "    <tr style=\"text-align: right;\">\n",
       "      <th></th>\n",
       "      <th>id</th>\n",
       "      <th>name</th>\n",
       "      <th>artists</th>\n",
       "      <th>danceability</th>\n",
       "      <th>energy</th>\n",
       "      <th>key</th>\n",
       "      <th>loudness</th>\n",
       "      <th>mode</th>\n",
       "      <th>speechiness</th>\n",
       "      <th>acousticness</th>\n",
       "      <th>instrumentalness</th>\n",
       "      <th>liveness</th>\n",
       "      <th>valence</th>\n",
       "      <th>tempo</th>\n",
       "      <th>duration_ms</th>\n",
       "      <th>time_signature</th>\n",
       "    </tr>\n",
       "  </thead>\n",
       "  <tbody>\n",
       "    <tr>\n",
       "      <th>0</th>\n",
       "      <td>6DCZcSspjsKoFjzjrWoCd</td>\n",
       "      <td>God's Plan</td>\n",
       "      <td>Drake</td>\n",
       "      <td>0.754</td>\n",
       "      <td>0.449</td>\n",
       "      <td>7.0</td>\n",
       "      <td>-9.211</td>\n",
       "      <td>1.0</td>\n",
       "      <td>0.1090</td>\n",
       "      <td>0.0332</td>\n",
       "      <td>0.000083</td>\n",
       "      <td>0.552</td>\n",
       "      <td>0.357</td>\n",
       "      <td>77.169</td>\n",
       "      <td>198973.0</td>\n",
       "      <td>4.0</td>\n",
       "    </tr>\n",
       "    <tr>\n",
       "      <th>1</th>\n",
       "      <td>3ee8Jmje8o58CHK66QrVC</td>\n",
       "      <td>SAD!</td>\n",
       "      <td>XXXTENTACION</td>\n",
       "      <td>0.740</td>\n",
       "      <td>0.613</td>\n",
       "      <td>8.0</td>\n",
       "      <td>-4.880</td>\n",
       "      <td>1.0</td>\n",
       "      <td>0.1450</td>\n",
       "      <td>0.2580</td>\n",
       "      <td>0.003720</td>\n",
       "      <td>0.123</td>\n",
       "      <td>0.473</td>\n",
       "      <td>75.023</td>\n",
       "      <td>166606.0</td>\n",
       "      <td>4.0</td>\n",
       "    </tr>\n",
       "    <tr>\n",
       "      <th>2</th>\n",
       "      <td>0e7ipj03S05BNilyu5bRz</td>\n",
       "      <td>rockstar (feat. 21 Savage)</td>\n",
       "      <td>Post Malone</td>\n",
       "      <td>0.587</td>\n",
       "      <td>0.535</td>\n",
       "      <td>5.0</td>\n",
       "      <td>-6.090</td>\n",
       "      <td>0.0</td>\n",
       "      <td>0.0898</td>\n",
       "      <td>0.1170</td>\n",
       "      <td>0.000066</td>\n",
       "      <td>0.131</td>\n",
       "      <td>0.140</td>\n",
       "      <td>159.847</td>\n",
       "      <td>218147.0</td>\n",
       "      <td>4.0</td>\n",
       "    </tr>\n",
       "  </tbody>\n",
       "</table>\n",
       "</div>"
      ],
      "text/plain": [
       "                      id                        name       artists  \\\n",
       "0  6DCZcSspjsKoFjzjrWoCd                  God's Plan         Drake   \n",
       "1  3ee8Jmje8o58CHK66QrVC                        SAD!  XXXTENTACION   \n",
       "2  0e7ipj03S05BNilyu5bRz  rockstar (feat. 21 Savage)   Post Malone   \n",
       "\n",
       "   danceability  energy  key  loudness  mode  speechiness  acousticness  \\\n",
       "0         0.754   0.449  7.0    -9.211   1.0       0.1090        0.0332   \n",
       "1         0.740   0.613  8.0    -4.880   1.0       0.1450        0.2580   \n",
       "2         0.587   0.535  5.0    -6.090   0.0       0.0898        0.1170   \n",
       "\n",
       "   instrumentalness  liveness  valence    tempo  duration_ms  time_signature  \n",
       "0          0.000083     0.552    0.357   77.169     198973.0             4.0  \n",
       "1          0.003720     0.123    0.473   75.023     166606.0             4.0  \n",
       "2          0.000066     0.131    0.140  159.847     218147.0             4.0  "
      ]
     },
     "execution_count": 2,
     "metadata": {},
     "output_type": "execute_result"
    }
   ],
   "source": [
    "#this would replace NaN values in a column with the mean of the other values in the column. \n",
    "#read the csv file and put it into a data frame\n",
    "tracks = pd.read_csv('top2018.csv')\n",
    "df = pd.DataFrame(tracks)\n",
    "df.mean()\n",
    "df.fillna(df.mean())\n",
    "df.head(3)"
   ]
  },
  {
   "cell_type": "markdown",
   "metadata": {},
   "source": [
    "# Data Manipulation\n",
    "## We will convert the existing song durations in miliseconds to minutes so they are easier to visualize\n",
    "We will add a new column for song durations in seconds"
   ]
  },
  {
   "cell_type": "code",
   "execution_count": 3,
   "metadata": {},
   "outputs": [],
   "source": [
    "tracks['duration_min']=tracks['duration_ms']/60000"
   ]
  },
  {
   "cell_type": "markdown",
   "metadata": {},
   "source": [
    "# Histogram of song durations in minutes"
   ]
  },
  {
   "cell_type": "code",
   "execution_count": 4,
   "metadata": {},
   "outputs": [
    {
     "data": {
      "text/plain": [
       "Text(0,0.5,'Frequency')"
      ]
     },
     "execution_count": 4,
     "metadata": {},
     "output_type": "execute_result"
    },
    {
     "data": {
      "image/png": "[encoded data removed]",
      "text/plain": [
       "<Figure size 432x288 with 1 Axes>"
      ]
     },
     "metadata": {},
     "output_type": "display_data"
    }
   ],
   "source": [
    "mins = tracks['duration_min']\n",
    "bins1 = []\n",
    "for n in range(0,725,25):\n",
    "    bins1.append(n/100.0)\n",
    "plt.hist(mins,bins = bins1,range=(0,7))\n",
    "plt.title('Histogram of song durations, bins of 15s')\n",
    "plt.xlabel('Duration (min)')\n",
    "plt.ylabel('Frequency')"
   ]
  },
  {
   "cell_type": "markdown",
   "metadata": {},
   "source": [
    "# Analysis\n",
    "When converted to minutes and ploted on a histogram, the distribution of song durations for this dataset can be more easily visualized to answer the question of how long are 2018's most popular songs? Based on the histogram, which shows the frequency of songs within 15 second ranges, songs lasting between 3:00 and 3:45 are most common, with a majority of songs lasting from 2:45 to 4:00. This could indicate an optimal duration where listeneres do not become bored of a song (after about 4 minutes), but also have time to become interested (after about 2 minutes 45 seconds). "
   ]
  },
  {
   "cell_type": "markdown",
   "metadata": {},
   "source": [
    "# Bar graph of song valence by mode"
   ]
  },
  {
   "cell_type": "code",
   "execution_count": 5,
   "metadata": {},
   "outputs": [
    {
     "data": {
      "image/png": "[encoded data removed]",
      "text/plain": [
       "<Figure size 432x288 with 1 Axes>"
      ]
     },
     "metadata": {},
     "output_type": "display_data"
    }
   ],
   "source": [
    "major_sum = 0\n",
    "minor_sum = 0\n",
    "num_major = 0\n",
    "num_minor = 0\n",
    "for x in range(0,len(df)):\n",
    "    if df['mode'][x]==1:\n",
    "        major_sum += df['valence'][x]\n",
    "        num_major += 1\n",
    "    else:\n",
    "        minor_sum += df['valence'][x]\n",
    "        num_minor += 1\n",
    "major_mean = major_sum/num_major\n",
    "minor_mean = minor_sum/num_minor\n",
    "bar1 = major_mean\n",
    "bar2 = minor_mean\n",
    "plt.bar([0,1],[bar1,bar2],align='center')\n",
    "plt.title('Average song valence by mode (major or minor)')\n",
    "plt.xticks([0,1],['major', 'minor'])\n",
    "plt.ylabel('valence (higher values mean more positive)')\n",
    "plt.show()"
   ]
  },
  {
   "cell_type": "markdown",
   "metadata": {},
   "source": [
    "# Analysis\n",
    "We used a bar graph to compare the average valence (a measure of how happy a song is) between songs in a major key and songs in a minor key. We found that contrary to what would be expected, in this 100 song sample, songs in the minor mode had a higher average valance, meaning they were happier feeling than those in the major key. This may inidicate that for at least the modern songs in the dataset, the perceieved happiness of a song is not determined by its key but perhaps by other factors like a fast tempo, or many lyrics and varied sounds. "
   ]
  },
  {
   "cell_type": "markdown",
   "metadata": {},
   "source": [
    "# Violin plot of danceability and energy"
   ]
  },
  {
   "cell_type": "code",
   "execution_count": 6,
   "metadata": {},
   "outputs": [
    {
     "data": {
      "image/png": "[encoded data removed]",
      "text/plain": [
       "<Figure size 432x288 with 1 Axes>"
      ]
     },
     "metadata": {},
     "output_type": "display_data"
    }
   ],
   "source": [
    "plt.violinplot([tracks['danceability'],tracks['energy']],showextrema=True,showmedians=True)\n",
    "\n",
    "plt.title('song characteristics Violin Plot')\n",
    "plt.xticks([1,2],['danceability','energy'])\n",
    "plt.ylabel('Value')\n",
    "\n",
    "plt.show()"
   ]
  },
  {
   "cell_type": "markdown",
   "metadata": {},
   "source": [
    "# Analysis\n",
    "We used the violin plot above to investiage the spread of danceability and energy values in the dataset. For both variables, a value of 0 indicated a lower level of danceability or energy, and a value of 1 indicates the highest possible danceability and energy. We thought that the data would be centered closer to 1 than to 0 for both of these measures gieven the upbeat nature of today's popular music. This is confirmed in the visualization. We also thought that the two plots would be very similar due to the related nature of danceability and energy. As seen in the plot this is somewhat true, but a greater amount of the songs had very high danceability measures, whereas the majority of songs had slightly lower energy values. As a whole, the violin plot shows that most of the songs in the dataset have high danceability values between approximately 0.6 and 0.9. Energy values are centered at a slightly lower level, with the majority of songs falling approximately between 0.5 and 0.8 and a greater amount of songs with lower eneger values compared to very few songs having low danceability values. "
   ]
  },
  {
   "cell_type": "markdown",
   "metadata": {},
   "source": [
    "# Summary\n",
    "Our visualizations aided us in determining some of the common qualities of 2018's top spotify songs. The historgram of song durations shows that most songs fall in a range of 2:45 to 4:00 minutes in length. The bar graph of average valence by mode disproves the idea that songs in a major mode are always happier and indicates that other factors are involved in a song's perceived level of happiness. Looking at violin plots of energy and danceability also reflects current trends towards higher energy, fast-paced songs, and people's desire to dance. "
   ]
  },
  {
   "cell_type": "code",
   "execution_count": null,
   "metadata": {},
   "outputs": [],
   "source": []
  }
 ],
 "metadata": {
  "kernelspec": {
   "display_name": "Python 3",
   "language": "python",
   "name": "python3"
  },
  "language_info": {
   "codemirror_mode": {
    "name": "ipython",
    "version": 3
   },
   "file_extension": ".py",
   "mimetype": "text/x-python",
   "name": "python",
   "nbconvert_exporter": "python",
   "pygments_lexer": "ipython3",
   "version": "3.6.5"
  }
 },
 "nbformat": 4,
 "nbformat_minor": 2
}

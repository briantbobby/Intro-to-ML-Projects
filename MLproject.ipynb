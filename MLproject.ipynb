{
 "cells": [
  {
   "cell_type": "markdown",
   "metadata": {
    "colab_type": "text",
    "id": "lx2phSSpczfR"
   },
   "source": [
    "# Info 1998 Final Project\n",
    "\n",
    "*   Using NFL Combine data to predict Player Performance/Value in NFL\n",
    "*   Authors: Brian Bobby (btb68), Max Brody (mwb226), Teddy Klausner (tjk223)\n",
    "\n",
    "**Question:** How does NFL Combine data predict future NFL performance? Which aspects are better predictors and which are worse?\n",
    "\n",
    "**Prediction**: A player with a strong NFL Combine will likely have a better NFL performance. Specific attributes will likely change between player positions, so we will probably isolate different positions, or sets of positions, and make separate models for each.\n",
    "\n",
    "**Data:**\n",
    "> NFL Combine data for all players in NFL Draft, 2000-2018:\n",
    "> https://www.kaggle.com/savvastj/nfl-combine-data/data\n",
    "\n",
    "\n",
    "\n",
    "> Madden satistics for all active players, 2019:\n",
    "> https://www.kaggle.com/gdowling/madden-2019-ultimate-team-dataset\n"
   ]
  },
  {
   "cell_type": "code",
   "execution_count": 1,
   "metadata": {
    "colab": {
     "base_uri": "https://localhost:8080/",
     "height": 204
    },
    "colab_type": "code",
    "id": "1ytxTZS2cyXP",
    "outputId": "5876ae19-db7d-4008-ea74-544bcc4c12e4"
   },
   "outputs": [
    {
     "data": {
      "text/html": [
       "<div>\n",
       "<style scoped>\n",
       "    .dataframe tbody tr th:only-of-type {\n",
       "        vertical-align: middle;\n",
       "    }\n",
       "\n",
       "    .dataframe tbody tr th {\n",
       "        vertical-align: top;\n",
       "    }\n",
       "\n",
       "    .dataframe thead th {\n",
       "        text-align: right;\n",
       "    }\n",
       "</style>\n",
       "<table border=\"1\" class=\"dataframe\">\n",
       "  <thead>\n",
       "    <tr style=\"text-align: right;\">\n",
       "      <th></th>\n",
       "      <th>Name</th>\n",
       "      <th>Rating</th>\n",
       "      <th>Pos</th>\n",
       "      <th>Ht</th>\n",
       "      <th>Wt</th>\n",
       "      <th>Forty</th>\n",
       "      <th>Vertical</th>\n",
       "      <th>BenchReps</th>\n",
       "      <th>BroadJump</th>\n",
       "      <th>Cone</th>\n",
       "      <th>Shuttle</th>\n",
       "    </tr>\n",
       "  </thead>\n",
       "  <tbody>\n",
       "    <tr>\n",
       "      <th>0</th>\n",
       "      <td>Calvin Johnson</td>\n",
       "      <td>94</td>\n",
       "      <td>WR</td>\n",
       "      <td>77</td>\n",
       "      <td>239</td>\n",
       "      <td>4.35</td>\n",
       "      <td>NaN</td>\n",
       "      <td>NaN</td>\n",
       "      <td>NaN</td>\n",
       "      <td>NaN</td>\n",
       "      <td>NaN</td>\n",
       "    </tr>\n",
       "    <tr>\n",
       "      <th>1</th>\n",
       "      <td>Kellen Winslow</td>\n",
       "      <td>94</td>\n",
       "      <td>TE</td>\n",
       "      <td>76</td>\n",
       "      <td>251</td>\n",
       "      <td>4.55</td>\n",
       "      <td>NaN</td>\n",
       "      <td>24.0</td>\n",
       "      <td>120.0</td>\n",
       "      <td>NaN</td>\n",
       "      <td>NaN</td>\n",
       "    </tr>\n",
       "    <tr>\n",
       "      <th>2</th>\n",
       "      <td>Drew Brees</td>\n",
       "      <td>93</td>\n",
       "      <td>QB</td>\n",
       "      <td>72</td>\n",
       "      <td>213</td>\n",
       "      <td>4.83</td>\n",
       "      <td>32.0</td>\n",
       "      <td>NaN</td>\n",
       "      <td>105.0</td>\n",
       "      <td>7.09</td>\n",
       "      <td>4.21</td>\n",
       "    </tr>\n",
       "    <tr>\n",
       "      <th>3</th>\n",
       "      <td>Melvin Gordon</td>\n",
       "      <td>93</td>\n",
       "      <td>RB</td>\n",
       "      <td>73</td>\n",
       "      <td>215</td>\n",
       "      <td>4.52</td>\n",
       "      <td>35.0</td>\n",
       "      <td>19.0</td>\n",
       "      <td>126.0</td>\n",
       "      <td>7.04</td>\n",
       "      <td>4.07</td>\n",
       "    </tr>\n",
       "    <tr>\n",
       "      <th>4</th>\n",
       "      <td>Deion Jones</td>\n",
       "      <td>93</td>\n",
       "      <td>OLB</td>\n",
       "      <td>73</td>\n",
       "      <td>222</td>\n",
       "      <td>4.59</td>\n",
       "      <td>33.0</td>\n",
       "      <td>NaN</td>\n",
       "      <td>120.0</td>\n",
       "      <td>NaN</td>\n",
       "      <td>NaN</td>\n",
       "    </tr>\n",
       "  </tbody>\n",
       "</table>\n",
       "</div>"
      ],
      "text/plain": [
       "             Name  Rating  Pos  Ht   Wt  Forty  Vertical  BenchReps  \\\n",
       "0  Calvin Johnson      94   WR  77  239   4.35       NaN        NaN   \n",
       "1  Kellen Winslow      94   TE  76  251   4.55       NaN       24.0   \n",
       "2      Drew Brees      93   QB  72  213   4.83      32.0        NaN   \n",
       "3   Melvin Gordon      93   RB  73  215   4.52      35.0       19.0   \n",
       "4     Deion Jones      93  OLB  73  222   4.59      33.0        NaN   \n",
       "\n",
       "   BroadJump  Cone  Shuttle  \n",
       "0        NaN   NaN      NaN  \n",
       "1      120.0   NaN      NaN  \n",
       "2      105.0  7.09     4.21  \n",
       "3      126.0  7.04     4.07  \n",
       "4      120.0   NaN      NaN  "
      ]
     },
     "execution_count": 1,
     "metadata": {},
     "output_type": "execute_result"
    }
   ],
   "source": [
    "import numpy as np\n",
    "import pandas as pd\n",
    "\n",
    "# Import both files as pandas dataframes\n",
    "combine_df = pd.read_csv('combine_data_since_2000_PROCESSED_2018-04-26.csv')\n",
    "madden_df = pd.read_csv('Madden_Ultimate_Team.csv')\n",
    "\n",
    "# Merge corresponding players by name\n",
    "merged_df = pd.merge(left=madden_df,right=combine_df,left_on='Name',\n",
    "                     right_on='Player')\n",
    "\n",
    "# Drop unneeded columns, mostly unneeded Madden attributes.\n",
    "# Also dropped Madden position, team, height, weight, because we want to predict\n",
    "# future performance based solely on combine results.\n",
    "merged_df.drop(['Unnamed: 0', 'Position', 'Team_x', 'Height', 'Weight', \n",
    "       'Card_set', 'Player_page', 'SPD', 'STR', 'AGI', 'ACC', 'AWR', 'CTH',\n",
    "       'JMP', 'STA', 'INJ', 'TRK', 'ELU', 'BTK', 'BCV', 'SFA', 'SPM', 'JKM',\n",
    "       'CAR', 'SRR', 'MRR', 'DRR', 'CIT', 'SPC', 'RLS', 'THP', 'TAS', 'TAM',\n",
    "       'TAD', 'TOR', 'TUP', 'BSK', 'PAC', 'RBK', 'RBP', 'RBF', 'PBK', 'PBP',\n",
    "       'PBF', 'LBK', 'IBL', 'TAK', 'POW', 'PWM', 'FNM', 'BKS', 'PUR', 'PRC',\n",
    "       'MCV', 'ZCV', 'PRS', 'KPW', 'KAC', 'KR', 'Xbox_price', 'Ps4_price',\n",
    "       'Quick_sell', 'Player', 'Year', 'Pfr_ID', 'AV', 'Team_y', 'Round',\n",
    "       'Pick'],axis=1,inplace=True)\n",
    "\n",
    "# It turns out that players can have multiple instances in Madden, taking the\n",
    "# form of different \"cards\" that have different strengths/values.\n",
    "# We decided to keep only the highest rated instance of each player to get a \n",
    "# consistent picture of everyone.\n",
    "merged_df.drop_duplicates(subset='Name',keep='first',inplace=True)\n",
    "\n",
    "# We also decided to drop punters and kickers, because they are a drastically\n",
    "# different type of player and will likely be outliers in the data.\n",
    "merged_df = merged_df[merged_df.Pos != 'K']\n",
    "merged_df = merged_df[merged_df.Pos != 'P']\n",
    "\n",
    "merged_df.reset_index(drop=True,inplace=True)\n",
    "merged_df.rename(columns={'Overall':'Rating'},inplace=True)\n",
    "\n",
    "merged_df.head()"
   ]
  },
  {
   "cell_type": "markdown",
   "metadata": {
    "colab_type": "text",
    "id": "udqquXx2Wwd9"
   },
   "source": [
    "Now we will handle the problem of missing data points. We first looked at how many missing values there were in each column:"
   ]
  },
  {
   "cell_type": "code",
   "execution_count": 2,
   "metadata": {
    "colab": {
     "base_uri": "https://localhost:8080/",
     "height": 221
    },
    "colab_type": "code",
    "id": "HTtM422yXeYv",
    "outputId": "7b5d6d8a-b24a-4003-c1b8-218d7fd061d6"
   },
   "outputs": [
    {
     "name": "stdout",
     "output_type": "stream",
     "text": [
      "Pos            0\n",
      "Ht             0\n",
      "Wt             0\n",
      "Forty         73\n",
      "Vertical     233\n",
      "BenchReps    357\n",
      "BroadJump    246\n",
      "Cone         443\n",
      "Shuttle      418\n",
      "dtype: int64\n",
      "\n",
      "Total Players:  1402\n"
     ]
    }
   ],
   "source": [
    "print(len(merged_df[['Pos','Ht','Wt','Forty','Vertical','BenchReps','BroadJump',\n",
    "                     'Cone','Shuttle']]) - merged_df[['Pos','Ht','Wt','Forty',\n",
    "                     'Vertical','BenchReps','BroadJump','Cone','Shuttle']]\n",
    "                     .count())\n",
    "print('\\nTotal Players: ',len(merged_df))"
   ]
  },
  {
   "cell_type": "markdown",
   "metadata": {
    "colab_type": "text",
    "id": "NqUwmc4iX4iA"
   },
   "source": [
    "Since Cone and Shuttle each have almost a third of the data missing, we will remove them and use only the other seven features."
   ]
  },
  {
   "cell_type": "code",
   "execution_count": 3,
   "metadata": {
    "colab": {},
    "colab_type": "code",
    "id": "6QdpaMvBa3k2"
   },
   "outputs": [],
   "source": [
    "merged_df.drop(['Cone','Shuttle'],axis=1,inplace=True)"
   ]
  },
  {
   "cell_type": "markdown",
   "metadata": {
    "colab_type": "text",
    "id": "mZEMlnTIa4R2"
   },
   "source": [
    "Next, we were curious about how many NaN values was acceptable for a player to have, and how many we could accept before having too few players to work with:"
   ]
  },
  {
   "cell_type": "code",
   "execution_count": 4,
   "metadata": {
    "colab": {
     "base_uri": "https://localhost:8080/",
     "height": 136
    },
    "colab_type": "code",
    "id": "evCfZ-F7YvGp",
    "outputId": "7a9a99f9-b652-40dc-8a6d-db7096d7ea1f"
   },
   "outputs": [
    {
     "name": "stdout",
     "output_type": "stream",
     "text": [
      "1 required feature(s): 1402 players left\n",
      "2 required feature(s): 1402 players left\n",
      "3 required feature(s): 1402 players left\n",
      "4 required feature(s): 1381 players left\n",
      "5 required feature(s): 1272 players left\n",
      "6 required feature(s): 1160 players left\n",
      "7 required feature(s): 886 players left\n"
     ]
    }
   ],
   "source": [
    "for i in range(1,8):\n",
    "    df = merged_df.dropna(thresh=i,subset=['Pos','Ht','Wt','Forty','Vertical',\n",
    "                          'BenchReps','BroadJump'],inplace=False)\n",
    "    print(str(i)+' required feature(s): '+str(len(df))+' players left')"
   ]
  },
  {
   "cell_type": "markdown",
   "metadata": {
    "colab_type": "text",
    "id": "dsl-09QyZPE-"
   },
   "source": [
    "After dropping all NaN values (shown above by the \"7 required features\" row), we still have a significant number of players left (886), and so instead of filling NaN values with means we are going to just use these 886 players that have fully complete data:"
   ]
  },
  {
   "cell_type": "code",
   "execution_count": 5,
   "metadata": {
    "colab": {
     "base_uri": "https://localhost:8080/",
     "height": 204
    },
    "colab_type": "code",
    "id": "8OGYrLwAarFu",
    "outputId": "0af42f66-b2c3-43d8-d839-3233e357605b"
   },
   "outputs": [
    {
     "data": {
      "text/html": [
       "<div>\n",
       "<style scoped>\n",
       "    .dataframe tbody tr th:only-of-type {\n",
       "        vertical-align: middle;\n",
       "    }\n",
       "\n",
       "    .dataframe tbody tr th {\n",
       "        vertical-align: top;\n",
       "    }\n",
       "\n",
       "    .dataframe thead th {\n",
       "        text-align: right;\n",
       "    }\n",
       "</style>\n",
       "<table border=\"1\" class=\"dataframe\">\n",
       "  <thead>\n",
       "    <tr style=\"text-align: right;\">\n",
       "      <th></th>\n",
       "      <th>Name</th>\n",
       "      <th>Rating</th>\n",
       "      <th>Pos</th>\n",
       "      <th>Ht</th>\n",
       "      <th>Wt</th>\n",
       "      <th>Forty</th>\n",
       "      <th>Vertical</th>\n",
       "      <th>BenchReps</th>\n",
       "      <th>BroadJump</th>\n",
       "    </tr>\n",
       "  </thead>\n",
       "  <tbody>\n",
       "    <tr>\n",
       "      <th>0</th>\n",
       "      <td>Melvin Gordon</td>\n",
       "      <td>93</td>\n",
       "      <td>RB</td>\n",
       "      <td>73</td>\n",
       "      <td>215</td>\n",
       "      <td>4.52</td>\n",
       "      <td>35.0</td>\n",
       "      <td>19.0</td>\n",
       "      <td>126.0</td>\n",
       "    </tr>\n",
       "    <tr>\n",
       "      <th>1</th>\n",
       "      <td>Jarvis Landry</td>\n",
       "      <td>93</td>\n",
       "      <td>WR</td>\n",
       "      <td>71</td>\n",
       "      <td>205</td>\n",
       "      <td>4.65</td>\n",
       "      <td>28.5</td>\n",
       "      <td>12.0</td>\n",
       "      <td>110.0</td>\n",
       "    </tr>\n",
       "    <tr>\n",
       "      <th>2</th>\n",
       "      <td>Sean Lee</td>\n",
       "      <td>93</td>\n",
       "      <td>ILB</td>\n",
       "      <td>74</td>\n",
       "      <td>236</td>\n",
       "      <td>4.71</td>\n",
       "      <td>37.5</td>\n",
       "      <td>24.0</td>\n",
       "      <td>120.0</td>\n",
       "    </tr>\n",
       "    <tr>\n",
       "      <th>3</th>\n",
       "      <td>Geno Atkins</td>\n",
       "      <td>92</td>\n",
       "      <td>DT</td>\n",
       "      <td>73</td>\n",
       "      <td>293</td>\n",
       "      <td>4.75</td>\n",
       "      <td>33.0</td>\n",
       "      <td>34.0</td>\n",
       "      <td>117.0</td>\n",
       "    </tr>\n",
       "    <tr>\n",
       "      <th>4</th>\n",
       "      <td>Le'Veon Bell</td>\n",
       "      <td>92</td>\n",
       "      <td>RB</td>\n",
       "      <td>73</td>\n",
       "      <td>230</td>\n",
       "      <td>4.60</td>\n",
       "      <td>31.5</td>\n",
       "      <td>24.0</td>\n",
       "      <td>118.0</td>\n",
       "    </tr>\n",
       "  </tbody>\n",
       "</table>\n",
       "</div>"
      ],
      "text/plain": [
       "            Name  Rating  Pos  Ht   Wt  Forty  Vertical  BenchReps  BroadJump\n",
       "0  Melvin Gordon      93   RB  73  215   4.52      35.0       19.0      126.0\n",
       "1  Jarvis Landry      93   WR  71  205   4.65      28.5       12.0      110.0\n",
       "2       Sean Lee      93  ILB  74  236   4.71      37.5       24.0      120.0\n",
       "3    Geno Atkins      92   DT  73  293   4.75      33.0       34.0      117.0\n",
       "4   Le'Veon Bell      92   RB  73  230   4.60      31.5       24.0      118.0"
      ]
     },
     "execution_count": 5,
     "metadata": {},
     "output_type": "execute_result"
    }
   ],
   "source": [
    "merged_df.dropna(subset=['Ht','Wt','Forty','Vertical','BenchReps','BroadJump'],inplace=True)\n",
    "merged_df.reset_index(drop=True,inplace=True)\n",
    "merged_df.head()"
   ]
  },
  {
   "cell_type": "markdown",
   "metadata": {
    "colab_type": "text",
    "id": "_Qv6VnpJbH5V"
   },
   "source": [
    "Next, we worked on making the \"Pos\" feature numerical, which we wanted to do using One Hot Encoding, where each position option is turned into another feature column where a value of 1 means a player is that position, and all other position columns have a value of 0. This first meant splitting our players into subgroups we believed would have similar desired traits and similar playing statistics, as we did not want to have 24 additional features to signify the 24 position options. Based on Max's football knowledge, we categorized the players into four groups instead: \n",
    "\n",
    "> Offensive Skill Positions (OS)\n",
    "*   WR, TE, QB, RB\n",
    "\n",
    "\n",
    "> Defensive Skill Positions (DS)\n",
    "*   FS, CB, SS, S, DB\n",
    "\n",
    "\n",
    "> Offensive Non-Skill Positions (ONS)\n",
    "*   G, C, T, FB, OL, \n",
    "\n",
    "\n",
    "> Defensive Non-Skill Positions (DNS)\n",
    "*   OLB, ILB, DT, DE, LB, EDGE, NT\n"
   ]
  },
  {
   "cell_type": "code",
   "execution_count": 6,
   "metadata": {
    "colab": {},
    "colab_type": "code",
    "id": "2b6x3IrqcG5E"
   },
   "outputs": [
    {
     "name": "stderr",
     "output_type": "stream",
     "text": [
      "/Applications/anaconda3/lib/python3.6/site-packages/ipykernel_launcher.py:2: SettingWithCopyWarning: \n",
      "A value is trying to be set on a copy of a slice from a DataFrame\n",
      "\n",
      "See the caveats in the documentation: http://pandas.pydata.org/pandas-docs/stable/indexing.html#indexing-view-versus-copy\n",
      "  \n",
      "/Applications/anaconda3/lib/python3.6/site-packages/ipykernel_launcher.py:3: SettingWithCopyWarning: \n",
      "A value is trying to be set on a copy of a slice from a DataFrame\n",
      "\n",
      "See the caveats in the documentation: http://pandas.pydata.org/pandas-docs/stable/indexing.html#indexing-view-versus-copy\n",
      "  This is separate from the ipykernel package so we can avoid doing imports until\n",
      "/Applications/anaconda3/lib/python3.6/site-packages/ipykernel_launcher.py:4: SettingWithCopyWarning: \n",
      "A value is trying to be set on a copy of a slice from a DataFrame\n",
      "\n",
      "See the caveats in the documentation: http://pandas.pydata.org/pandas-docs/stable/indexing.html#indexing-view-versus-copy\n",
      "  after removing the cwd from sys.path.\n",
      "/Applications/anaconda3/lib/python3.6/site-packages/ipykernel_launcher.py:5: SettingWithCopyWarning: \n",
      "A value is trying to be set on a copy of a slice from a DataFrame\n",
      "\n",
      "See the caveats in the documentation: http://pandas.pydata.org/pandas-docs/stable/indexing.html#indexing-view-versus-copy\n",
      "  \"\"\"\n",
      "/Applications/anaconda3/lib/python3.6/site-packages/ipykernel_launcher.py:8: SettingWithCopyWarning: \n",
      "A value is trying to be set on a copy of a slice from a DataFrame\n",
      "\n",
      "See the caveats in the documentation: http://pandas.pydata.org/pandas-docs/stable/indexing.html#indexing-view-versus-copy\n",
      "  \n",
      "/Applications/anaconda3/lib/python3.6/site-packages/ipykernel_launcher.py:9: SettingWithCopyWarning: \n",
      "A value is trying to be set on a copy of a slice from a DataFrame\n",
      "\n",
      "See the caveats in the documentation: http://pandas.pydata.org/pandas-docs/stable/indexing.html#indexing-view-versus-copy\n",
      "  if __name__ == '__main__':\n",
      "/Applications/anaconda3/lib/python3.6/site-packages/ipykernel_launcher.py:10: SettingWithCopyWarning: \n",
      "A value is trying to be set on a copy of a slice from a DataFrame\n",
      "\n",
      "See the caveats in the documentation: http://pandas.pydata.org/pandas-docs/stable/indexing.html#indexing-view-versus-copy\n",
      "  # Remove the CWD from sys.path while we load stuff.\n",
      "/Applications/anaconda3/lib/python3.6/site-packages/ipykernel_launcher.py:11: SettingWithCopyWarning: \n",
      "A value is trying to be set on a copy of a slice from a DataFrame\n",
      "\n",
      "See the caveats in the documentation: http://pandas.pydata.org/pandas-docs/stable/indexing.html#indexing-view-versus-copy\n",
      "  # This is added back by InteractiveShellApp.init_path()\n",
      "/Applications/anaconda3/lib/python3.6/site-packages/ipykernel_launcher.py:12: SettingWithCopyWarning: \n",
      "A value is trying to be set on a copy of a slice from a DataFrame\n",
      "\n",
      "See the caveats in the documentation: http://pandas.pydata.org/pandas-docs/stable/indexing.html#indexing-view-versus-copy\n",
      "  if sys.path[0] == '':\n",
      "/Applications/anaconda3/lib/python3.6/site-packages/ipykernel_launcher.py:15: SettingWithCopyWarning: \n",
      "A value is trying to be set on a copy of a slice from a DataFrame\n",
      "\n",
      "See the caveats in the documentation: http://pandas.pydata.org/pandas-docs/stable/indexing.html#indexing-view-versus-copy\n",
      "  from ipykernel import kernelapp as app\n",
      "/Applications/anaconda3/lib/python3.6/site-packages/ipykernel_launcher.py:16: SettingWithCopyWarning: \n",
      "A value is trying to be set on a copy of a slice from a DataFrame\n",
      "\n",
      "See the caveats in the documentation: http://pandas.pydata.org/pandas-docs/stable/indexing.html#indexing-view-versus-copy\n",
      "  app.launch_new_instance()\n",
      "/Applications/anaconda3/lib/python3.6/site-packages/ipykernel_launcher.py:17: SettingWithCopyWarning: \n",
      "A value is trying to be set on a copy of a slice from a DataFrame\n",
      "\n",
      "See the caveats in the documentation: http://pandas.pydata.org/pandas-docs/stable/indexing.html#indexing-view-versus-copy\n",
      "/Applications/anaconda3/lib/python3.6/site-packages/ipykernel_launcher.py:18: SettingWithCopyWarning: \n",
      "A value is trying to be set on a copy of a slice from a DataFrame\n",
      "\n",
      "See the caveats in the documentation: http://pandas.pydata.org/pandas-docs/stable/indexing.html#indexing-view-versus-copy\n",
      "/Applications/anaconda3/lib/python3.6/site-packages/ipykernel_launcher.py:19: SettingWithCopyWarning: \n",
      "A value is trying to be set on a copy of a slice from a DataFrame\n",
      "\n",
      "See the caveats in the documentation: http://pandas.pydata.org/pandas-docs/stable/indexing.html#indexing-view-versus-copy\n",
      "/Applications/anaconda3/lib/python3.6/site-packages/ipykernel_launcher.py:20: SettingWithCopyWarning: \n",
      "A value is trying to be set on a copy of a slice from a DataFrame\n",
      "\n",
      "See the caveats in the documentation: http://pandas.pydata.org/pandas-docs/stable/indexing.html#indexing-view-versus-copy\n",
      "/Applications/anaconda3/lib/python3.6/site-packages/ipykernel_launcher.py:23: SettingWithCopyWarning: \n",
      "A value is trying to be set on a copy of a slice from a DataFrame\n",
      "\n",
      "See the caveats in the documentation: http://pandas.pydata.org/pandas-docs/stable/indexing.html#indexing-view-versus-copy\n",
      "/Applications/anaconda3/lib/python3.6/site-packages/ipykernel_launcher.py:24: SettingWithCopyWarning: \n",
      "A value is trying to be set on a copy of a slice from a DataFrame\n",
      "\n",
      "See the caveats in the documentation: http://pandas.pydata.org/pandas-docs/stable/indexing.html#indexing-view-versus-copy\n",
      "/Applications/anaconda3/lib/python3.6/site-packages/ipykernel_launcher.py:25: SettingWithCopyWarning: \n",
      "A value is trying to be set on a copy of a slice from a DataFrame\n",
      "\n",
      "See the caveats in the documentation: http://pandas.pydata.org/pandas-docs/stable/indexing.html#indexing-view-versus-copy\n",
      "/Applications/anaconda3/lib/python3.6/site-packages/ipykernel_launcher.py:26: SettingWithCopyWarning: \n",
      "A value is trying to be set on a copy of a slice from a DataFrame\n",
      "\n",
      "See the caveats in the documentation: http://pandas.pydata.org/pandas-docs/stable/indexing.html#indexing-view-versus-copy\n",
      "/Applications/anaconda3/lib/python3.6/site-packages/ipykernel_launcher.py:27: SettingWithCopyWarning: \n",
      "A value is trying to be set on a copy of a slice from a DataFrame\n",
      "\n",
      "See the caveats in the documentation: http://pandas.pydata.org/pandas-docs/stable/indexing.html#indexing-view-versus-copy\n",
      "/Applications/anaconda3/lib/python3.6/site-packages/ipykernel_launcher.py:28: SettingWithCopyWarning: \n",
      "A value is trying to be set on a copy of a slice from a DataFrame\n",
      "\n",
      "See the caveats in the documentation: http://pandas.pydata.org/pandas-docs/stable/indexing.html#indexing-view-versus-copy\n",
      "/Applications/anaconda3/lib/python3.6/site-packages/ipykernel_launcher.py:29: SettingWithCopyWarning: \n",
      "A value is trying to be set on a copy of a slice from a DataFrame\n",
      "\n",
      "See the caveats in the documentation: http://pandas.pydata.org/pandas-docs/stable/indexing.html#indexing-view-versus-copy\n"
     ]
    }
   ],
   "source": [
    "#Offensive skill positions: WR, TE, QB, RB\n",
    "merged_df.Pos[merged_df.Pos == 'WR'] = 'OS'\n",
    "merged_df.Pos[merged_df.Pos == 'TE'] = 'OS'\n",
    "merged_df.Pos[merged_df.Pos == 'QB'] = 'OS'\n",
    "merged_df.Pos[merged_df.Pos == 'RB'] = 'OS'\n",
    "\n",
    "#Defensive Skill Positions: FS, CB, SS, S, DB\n",
    "merged_df.Pos[merged_df.Pos == 'FS'] = 'DS'\n",
    "merged_df.Pos[merged_df.Pos == 'CB'] = 'DS'\n",
    "merged_df.Pos[merged_df.Pos == 'SS'] = 'DS'\n",
    "merged_df.Pos[merged_df.Pos == 'S'] = 'DS'\n",
    "merged_df.Pos[merged_df.Pos == 'DB'] = 'DS'\n",
    "\n",
    "#Offensive Non-Skill Positions: G, C, T, FB, OL, OT, OG\n",
    "merged_df.Pos[merged_df.Pos == 'G'] = 'ONS'\n",
    "merged_df.Pos[merged_df.Pos == 'FB'] = 'ONS'\n",
    "merged_df.Pos[merged_df.Pos == 'OG'] = 'ONS'\n",
    "merged_df.Pos[merged_df.Pos == 'OL'] = 'ONS'\n",
    "merged_df.Pos[merged_df.Pos == 'OT'] = 'ONS'\n",
    "merged_df.Pos[merged_df.Pos == 'C'] = 'ONS'\n",
    "\n",
    "#Defensive Non-skill Positions: OLB, ILB, DT, DE, LB, EDGE, NT\n",
    "merged_df.Pos[merged_df.Pos == 'OLB'] = 'DNS'\n",
    "merged_df.Pos[merged_df.Pos == 'ILB'] = 'DNS'\n",
    "merged_df.Pos[merged_df.Pos == 'DT'] = 'DNS'\n",
    "merged_df.Pos[merged_df.Pos == 'DE'] = 'DNS'\n",
    "merged_df.Pos[merged_df.Pos == 'LB'] = 'DNS'\n",
    "merged_df.Pos[merged_df.Pos == 'EDGE'] = 'DNS'\n",
    "merged_df.Pos[merged_df.Pos == 'NT'] = 'DNS'"
   ]
  },
  {
   "cell_type": "markdown",
   "metadata": {
    "colab_type": "text",
    "id": "_ZxTbjxQgkGI"
   },
   "source": [
    "We then used the One Hot Encoding technique to create new position columns using these four categories:"
   ]
  },
  {
   "cell_type": "code",
   "execution_count": 7,
   "metadata": {
    "colab": {
     "base_uri": "https://localhost:8080/",
     "height": 204
    },
    "colab_type": "code",
    "id": "L4Yla2tyaCd0",
    "outputId": "e8389d19-9f64-4f7a-8340-fc4d6c5949ae"
   },
   "outputs": [
    {
     "data": {
      "text/html": [
       "<div>\n",
       "<style scoped>\n",
       "    .dataframe tbody tr th:only-of-type {\n",
       "        vertical-align: middle;\n",
       "    }\n",
       "\n",
       "    .dataframe tbody tr th {\n",
       "        vertical-align: top;\n",
       "    }\n",
       "\n",
       "    .dataframe thead th {\n",
       "        text-align: right;\n",
       "    }\n",
       "</style>\n",
       "<table border=\"1\" class=\"dataframe\">\n",
       "  <thead>\n",
       "    <tr style=\"text-align: right;\">\n",
       "      <th></th>\n",
       "      <th>Name</th>\n",
       "      <th>Rating</th>\n",
       "      <th>Pos</th>\n",
       "      <th>Ht</th>\n",
       "      <th>Wt</th>\n",
       "      <th>Forty</th>\n",
       "      <th>Vertical</th>\n",
       "      <th>BenchReps</th>\n",
       "      <th>BroadJump</th>\n",
       "      <th>category_DNS</th>\n",
       "      <th>category_DS</th>\n",
       "      <th>category_ONS</th>\n",
       "      <th>category_OS</th>\n",
       "    </tr>\n",
       "  </thead>\n",
       "  <tbody>\n",
       "    <tr>\n",
       "      <th>0</th>\n",
       "      <td>Melvin Gordon</td>\n",
       "      <td>93</td>\n",
       "      <td>OS</td>\n",
       "      <td>73</td>\n",
       "      <td>215</td>\n",
       "      <td>4.52</td>\n",
       "      <td>35.0</td>\n",
       "      <td>19.0</td>\n",
       "      <td>126.0</td>\n",
       "      <td>0</td>\n",
       "      <td>0</td>\n",
       "      <td>0</td>\n",
       "      <td>1</td>\n",
       "    </tr>\n",
       "    <tr>\n",
       "      <th>1</th>\n",
       "      <td>Jarvis Landry</td>\n",
       "      <td>93</td>\n",
       "      <td>OS</td>\n",
       "      <td>71</td>\n",
       "      <td>205</td>\n",
       "      <td>4.65</td>\n",
       "      <td>28.5</td>\n",
       "      <td>12.0</td>\n",
       "      <td>110.0</td>\n",
       "      <td>0</td>\n",
       "      <td>0</td>\n",
       "      <td>0</td>\n",
       "      <td>1</td>\n",
       "    </tr>\n",
       "    <tr>\n",
       "      <th>2</th>\n",
       "      <td>Sean Lee</td>\n",
       "      <td>93</td>\n",
       "      <td>DNS</td>\n",
       "      <td>74</td>\n",
       "      <td>236</td>\n",
       "      <td>4.71</td>\n",
       "      <td>37.5</td>\n",
       "      <td>24.0</td>\n",
       "      <td>120.0</td>\n",
       "      <td>1</td>\n",
       "      <td>0</td>\n",
       "      <td>0</td>\n",
       "      <td>0</td>\n",
       "    </tr>\n",
       "    <tr>\n",
       "      <th>3</th>\n",
       "      <td>Geno Atkins</td>\n",
       "      <td>92</td>\n",
       "      <td>DNS</td>\n",
       "      <td>73</td>\n",
       "      <td>293</td>\n",
       "      <td>4.75</td>\n",
       "      <td>33.0</td>\n",
       "      <td>34.0</td>\n",
       "      <td>117.0</td>\n",
       "      <td>1</td>\n",
       "      <td>0</td>\n",
       "      <td>0</td>\n",
       "      <td>0</td>\n",
       "    </tr>\n",
       "    <tr>\n",
       "      <th>4</th>\n",
       "      <td>Le'Veon Bell</td>\n",
       "      <td>92</td>\n",
       "      <td>OS</td>\n",
       "      <td>73</td>\n",
       "      <td>230</td>\n",
       "      <td>4.60</td>\n",
       "      <td>31.5</td>\n",
       "      <td>24.0</td>\n",
       "      <td>118.0</td>\n",
       "      <td>0</td>\n",
       "      <td>0</td>\n",
       "      <td>0</td>\n",
       "      <td>1</td>\n",
       "    </tr>\n",
       "  </tbody>\n",
       "</table>\n",
       "</div>"
      ],
      "text/plain": [
       "            Name  Rating  Pos  Ht   Wt  Forty  Vertical  BenchReps  BroadJump  \\\n",
       "0  Melvin Gordon      93   OS  73  215   4.52      35.0       19.0      126.0   \n",
       "1  Jarvis Landry      93   OS  71  205   4.65      28.5       12.0      110.0   \n",
       "2       Sean Lee      93  DNS  74  236   4.71      37.5       24.0      120.0   \n",
       "3    Geno Atkins      92  DNS  73  293   4.75      33.0       34.0      117.0   \n",
       "4   Le'Veon Bell      92   OS  73  230   4.60      31.5       24.0      118.0   \n",
       "\n",
       "   category_DNS  category_DS  category_ONS  category_OS  \n",
       "0             0            0             0            1  \n",
       "1             0            0             0            1  \n",
       "2             1            0             0            0  \n",
       "3             1            0             0            0  \n",
       "4             0            0             0            1  "
      ]
     },
     "execution_count": 7,
     "metadata": {},
     "output_type": "execute_result"
    }
   ],
   "source": [
    "#One Hot Encoding\n",
    "merged_df['Pos'] = pd.Categorical(merged_df['Pos'])\n",
    "dfDummies = pd.get_dummies(merged_df['Pos'], prefix = 'category')\n",
    "OHE_df = pd.concat([merged_df, dfDummies], axis=1)\n",
    "OHE_df.head()"
   ]
  },
  {
   "cell_type": "markdown",
   "metadata": {
    "colab_type": "text",
    "id": "Qs8RQu-rhojW"
   },
   "source": [
    "Now we have all numerical features, a numerical target, and no missing data. Our next step is to start modelling. We had hoped that a simple Linear Regression model would fit the data, but after looking at the below correlation matrix, we were doubtful:"
   ]
  },
  {
   "cell_type": "code",
   "execution_count": 8,
   "metadata": {
    "colab": {
     "base_uri": "https://localhost:8080/",
     "height": 319
    },
    "colab_type": "code",
    "id": "DDqB7u-05rAD",
    "outputId": "4f542fc2-f301-4ca4-f73b-ce526f590b32"
   },
   "outputs": [
    {
     "data": {
      "image/png": "[encoded data removed]",
      "text/plain": [
       "<Figure size 432x288 with 2 Axes>"
      ]
     },
     "metadata": {},
     "output_type": "display_data"
    }
   ],
   "source": [
    "import matplotlib.pyplot as plt\n",
    "%matplotlib inline\n",
    "\n",
    "corr = OHE_df.corr()\n",
    "\n",
    "fig = plt.figure()\n",
    "ax = fig.add_subplot(111)\n",
    "fig.colorbar(ax.matshow(corr, cmap='RdBu', vmin=-1, vmax=1))\n",
    "\n",
    "ax.set_xticks(range(len(corr.columns)))\n",
    "ax.set_xticklabels(corr.columns)\n",
    "for tick in ax.get_xticklabels():\n",
    "        tick.set_rotation(45)\n",
    "\n",
    "ax.set_yticks(range(len(corr.columns)))\n",
    "ax.set_yticklabels(corr.columns)\n",
    "\n",
    "plt.show()"
   ]
  },
  {
   "cell_type": "markdown",
   "metadata": {
    "colab_type": "text",
    "id": "9H5vcaQm3zOj"
   },
   "source": [
    "As you can see, the row that relates Rating to all of our features is basically white, meaning there aren't any strong linear relationships. Nonetheless, we created a Linear Regression model using all 11 features with the aim of predicting each player's overall rating:"
   ]
  },
  {
   "cell_type": "code",
   "execution_count": 9,
   "metadata": {
    "colab": {
     "base_uri": "https://localhost:8080/",
     "height": 34
    },
    "colab_type": "code",
    "id": "5QQ2qixlmdlJ",
    "outputId": "6b1101b4-0a7a-4fb5-84ae-dbff7f68868e"
   },
   "outputs": [
    {
     "name": "stdout",
     "output_type": "stream",
     "text": [
      "LinReg score:  0.05620849343235734\n"
     ]
    }
   ],
   "source": [
    "from sklearn.model_selection import train_test_split\n",
    "from sklearn.linear_model import LinearRegression\n",
    "X = OHE_df.drop(['Name', 'Rating', 'Pos'], axis=1)\n",
    "Y = OHE_df['Rating']\n",
    "X_train, X_test, Y_train, Y_test = train_test_split(X, Y, test_size=.2,random_state=13)\n",
    "model = LinearRegression()\n",
    "model.fit(X_train, Y_train)\n",
    "print('LinReg score: ',model.score(X_test, Y_test))"
   ]
  },
  {
   "cell_type": "markdown",
   "metadata": {
    "colab_type": "text",
    "id": "q7Qcd2N5oFrl"
   },
   "source": [
    "With repeated random splits, we could not get our model score over 0.1, so we decided to try a Decision Tree Regressor next to see if that could better fit our data, testing different depths to see what would give us the best results:"
   ]
  },
  {
   "cell_type": "code",
   "execution_count": 10,
   "metadata": {
    "colab": {
     "base_uri": "https://localhost:8080/",
     "height": 85
    },
    "colab_type": "code",
    "id": "iEpve2GZoNuV",
    "outputId": "4127fb58-d932-4234-80ed-87ee155e2653"
   },
   "outputs": [
    {
     "name": "stdout",
     "output_type": "stream",
     "text": [
      "DecisionTreeRegressor:\n",
      "    depth:  1\n",
      "    max training score:  0.030040815213867478\n",
      "    max testing score:  0.009789102652305703\n"
     ]
    }
   ],
   "source": [
    "from sklearn.tree import DecisionTreeRegressor\n",
    "from sklearn.model_selection import train_test_split\n",
    "\n",
    "X = OHE_df.drop(['Name', 'Rating', 'Pos'], axis=1)\n",
    "Y = OHE_df['Rating']\n",
    "x_train, x_test, y_train, y_test = train_test_split(X, Y, test_size=.2,random_state=13)\n",
    "\n",
    "\n",
    "train_scores = []\n",
    "test_scores = []\n",
    "\n",
    "max_depths = list(range(1,100))\n",
    "max_score_te = -1\n",
    "max_score_tr = -1\n",
    "depth = 0\n",
    "for i in max_depths:\n",
    "    model = DecisionTreeRegressor(max_depth=i)\n",
    "    model.fit(x_train, y_train)\n",
    "    test_score = model.score(x_test, y_test)\n",
    "    if test_score > max_score_te:\n",
    "        max_score_te = test_score\n",
    "        max_score_tr = model.score(x_train, y_train)\n",
    "        depth = i\n",
    "print('DecisionTreeRegressor:')\n",
    "print('    depth: ',depth)\n",
    "print('    max training score: ',max_score_tr)\n",
    "print('    max testing score: ',max_score_te)"
   ]
  },
  {
   "cell_type": "markdown",
   "metadata": {
    "colab_type": "text",
    "id": "E6fz0aKAohxs"
   },
   "source": [
    "Obviously, the Decision Tree Regressor didn't give us great results either. We next decided to look at the distribution of ratings to see if anything unusual was happening, or if there were obvious visual categories we could bin our ratings into to simplify our model:"
   ]
  },
  {
   "cell_type": "code",
   "execution_count": 11,
   "metadata": {
    "colab": {
     "base_uri": "https://localhost:8080/",
     "height": 295
    },
    "colab_type": "code",
    "id": "cHnqTPTloz3s",
    "outputId": "d95d9e7c-618a-4e61-dc49-1a76b34b25fc"
   },
   "outputs": [
    {
     "data": {
      "image/png": "[encoded data removed]",
      "text/plain": [
       "<Figure size 432x288 with 1 Axes>"
      ]
     },
     "metadata": {},
     "output_type": "display_data"
    }
   ],
   "source": [
    "import matplotlib.pyplot as plt\n",
    "import seaborn as sns\n",
    "%matplotlib inline\n",
    "\n",
    "plt.subplot()\n",
    "sns.kdeplot(OHE_df['Rating'], bw=1)\n",
    "\n",
    "plt.title ('Overall Rating Density Plot')\n",
    "plt.xlabel('Overall Rating')\n",
    "plt.ylabel('Density')\n",
    "\n",
    "plt.show()"
   ]
  },
  {
   "cell_type": "markdown",
   "metadata": {
    "colab_type": "text",
    "id": "9H8JqWCjpPMm"
   },
   "source": [
    "Based on this visual, we decided to bin our data into three categories:\n",
    "\n",
    "\n",
    "*   great players, with a rating of at least 85\n",
    "\n",
    "*   good players, with a rating less than 85 but at least 65\n",
    "\n",
    "*   bad players, with a rating less than 65\n",
    "\n",
    "\n",
    "\n",
    "\n"
   ]
  },
  {
   "cell_type": "code",
   "execution_count": 12,
   "metadata": {
    "colab": {},
    "colab_type": "code",
    "id": "IBIvpOxJjQ9G"
   },
   "outputs": [
    {
     "name": "stderr",
     "output_type": "stream",
     "text": [
      "/Applications/anaconda3/lib/python3.6/site-packages/ipykernel_launcher.py:2: SettingWithCopyWarning: \n",
      "A value is trying to be set on a copy of a slice from a DataFrame\n",
      "\n",
      "See the caveats in the documentation: http://pandas.pydata.org/pandas-docs/stable/indexing.html#indexing-view-versus-copy\n",
      "  \n",
      "/Applications/anaconda3/lib/python3.6/site-packages/ipykernel_launcher.py:3: SettingWithCopyWarning: \n",
      "A value is trying to be set on a copy of a slice from a DataFrame\n",
      "\n",
      "See the caveats in the documentation: http://pandas.pydata.org/pandas-docs/stable/indexing.html#indexing-view-versus-copy\n",
      "  This is separate from the ipykernel package so we can avoid doing imports until\n"
     ]
    }
   ],
   "source": [
    "OHE_df['categ'] = 'great'\n",
    "OHE_df.categ[OHE_df.Rating < 85] = 'good'\n",
    "OHE_df.categ[OHE_df.Rating < 65] = 'bad'"
   ]
  },
  {
   "cell_type": "code",
   "execution_count": 13,
   "metadata": {
    "colab": {
     "base_uri": "https://localhost:8080/",
     "height": 204
    },
    "colab_type": "code",
    "id": "hNjhcXoHpghg",
    "outputId": "3788f91e-4f9d-4d39-e397-4cc83786b693"
   },
   "outputs": [
    {
     "data": {
      "text/html": [
       "<div>\n",
       "<style scoped>\n",
       "    .dataframe tbody tr th:only-of-type {\n",
       "        vertical-align: middle;\n",
       "    }\n",
       "\n",
       "    .dataframe tbody tr th {\n",
       "        vertical-align: top;\n",
       "    }\n",
       "\n",
       "    .dataframe thead th {\n",
       "        text-align: right;\n",
       "    }\n",
       "</style>\n",
       "<table border=\"1\" class=\"dataframe\">\n",
       "  <thead>\n",
       "    <tr style=\"text-align: right;\">\n",
       "      <th></th>\n",
       "      <th>Name</th>\n",
       "      <th>Rating</th>\n",
       "      <th>Pos</th>\n",
       "      <th>Ht</th>\n",
       "      <th>Wt</th>\n",
       "      <th>Forty</th>\n",
       "      <th>Vertical</th>\n",
       "      <th>BenchReps</th>\n",
       "      <th>BroadJump</th>\n",
       "      <th>category_DNS</th>\n",
       "      <th>category_DS</th>\n",
       "      <th>category_ONS</th>\n",
       "      <th>category_OS</th>\n",
       "      <th>categ</th>\n",
       "    </tr>\n",
       "  </thead>\n",
       "  <tbody>\n",
       "    <tr>\n",
       "      <th>0</th>\n",
       "      <td>Melvin Gordon</td>\n",
       "      <td>93</td>\n",
       "      <td>OS</td>\n",
       "      <td>73</td>\n",
       "      <td>215</td>\n",
       "      <td>4.52</td>\n",
       "      <td>35.0</td>\n",
       "      <td>19.0</td>\n",
       "      <td>126.0</td>\n",
       "      <td>0</td>\n",
       "      <td>0</td>\n",
       "      <td>0</td>\n",
       "      <td>1</td>\n",
       "      <td>great</td>\n",
       "    </tr>\n",
       "    <tr>\n",
       "      <th>1</th>\n",
       "      <td>Jarvis Landry</td>\n",
       "      <td>93</td>\n",
       "      <td>OS</td>\n",
       "      <td>71</td>\n",
       "      <td>205</td>\n",
       "      <td>4.65</td>\n",
       "      <td>28.5</td>\n",
       "      <td>12.0</td>\n",
       "      <td>110.0</td>\n",
       "      <td>0</td>\n",
       "      <td>0</td>\n",
       "      <td>0</td>\n",
       "      <td>1</td>\n",
       "      <td>great</td>\n",
       "    </tr>\n",
       "    <tr>\n",
       "      <th>2</th>\n",
       "      <td>Sean Lee</td>\n",
       "      <td>93</td>\n",
       "      <td>DNS</td>\n",
       "      <td>74</td>\n",
       "      <td>236</td>\n",
       "      <td>4.71</td>\n",
       "      <td>37.5</td>\n",
       "      <td>24.0</td>\n",
       "      <td>120.0</td>\n",
       "      <td>1</td>\n",
       "      <td>0</td>\n",
       "      <td>0</td>\n",
       "      <td>0</td>\n",
       "      <td>great</td>\n",
       "    </tr>\n",
       "    <tr>\n",
       "      <th>3</th>\n",
       "      <td>Geno Atkins</td>\n",
       "      <td>92</td>\n",
       "      <td>DNS</td>\n",
       "      <td>73</td>\n",
       "      <td>293</td>\n",
       "      <td>4.75</td>\n",
       "      <td>33.0</td>\n",
       "      <td>34.0</td>\n",
       "      <td>117.0</td>\n",
       "      <td>1</td>\n",
       "      <td>0</td>\n",
       "      <td>0</td>\n",
       "      <td>0</td>\n",
       "      <td>great</td>\n",
       "    </tr>\n",
       "    <tr>\n",
       "      <th>4</th>\n",
       "      <td>Le'Veon Bell</td>\n",
       "      <td>92</td>\n",
       "      <td>OS</td>\n",
       "      <td>73</td>\n",
       "      <td>230</td>\n",
       "      <td>4.60</td>\n",
       "      <td>31.5</td>\n",
       "      <td>24.0</td>\n",
       "      <td>118.0</td>\n",
       "      <td>0</td>\n",
       "      <td>0</td>\n",
       "      <td>0</td>\n",
       "      <td>1</td>\n",
       "      <td>great</td>\n",
       "    </tr>\n",
       "  </tbody>\n",
       "</table>\n",
       "</div>"
      ],
      "text/plain": [
       "            Name  Rating  Pos  Ht   Wt  Forty  Vertical  BenchReps  BroadJump  \\\n",
       "0  Melvin Gordon      93   OS  73  215   4.52      35.0       19.0      126.0   \n",
       "1  Jarvis Landry      93   OS  71  205   4.65      28.5       12.0      110.0   \n",
       "2       Sean Lee      93  DNS  74  236   4.71      37.5       24.0      120.0   \n",
       "3    Geno Atkins      92  DNS  73  293   4.75      33.0       34.0      117.0   \n",
       "4   Le'Veon Bell      92   OS  73  230   4.60      31.5       24.0      118.0   \n",
       "\n",
       "   category_DNS  category_DS  category_ONS  category_OS  categ  \n",
       "0             0            0             0            1  great  \n",
       "1             0            0             0            1  great  \n",
       "2             1            0             0            0  great  \n",
       "3             1            0             0            0  great  \n",
       "4             0            0             0            1  great  "
      ]
     },
     "execution_count": 13,
     "metadata": {},
     "output_type": "execute_result"
    }
   ],
   "source": [
    "OHE_df.head()"
   ]
  },
  {
   "cell_type": "code",
   "execution_count": 14,
   "metadata": {
    "colab": {
     "base_uri": "https://localhost:8080/",
     "height": 204
    },
    "colab_type": "code",
    "id": "ZLpdEnnNpi9d",
    "outputId": "f8900c82-029f-494e-86c8-e417a8951b02"
   },
   "outputs": [
    {
     "data": {
      "text/html": [
       "<div>\n",
       "<style scoped>\n",
       "    .dataframe tbody tr th:only-of-type {\n",
       "        vertical-align: middle;\n",
       "    }\n",
       "\n",
       "    .dataframe tbody tr th {\n",
       "        vertical-align: top;\n",
       "    }\n",
       "\n",
       "    .dataframe thead th {\n",
       "        text-align: right;\n",
       "    }\n",
       "</style>\n",
       "<table border=\"1\" class=\"dataframe\">\n",
       "  <thead>\n",
       "    <tr style=\"text-align: right;\">\n",
       "      <th></th>\n",
       "      <th>Name</th>\n",
       "      <th>Rating</th>\n",
       "      <th>Pos</th>\n",
       "      <th>Ht</th>\n",
       "      <th>Wt</th>\n",
       "      <th>Forty</th>\n",
       "      <th>Vertical</th>\n",
       "      <th>BenchReps</th>\n",
       "      <th>BroadJump</th>\n",
       "      <th>category_DNS</th>\n",
       "      <th>category_DS</th>\n",
       "      <th>category_ONS</th>\n",
       "      <th>category_OS</th>\n",
       "      <th>categ</th>\n",
       "    </tr>\n",
       "  </thead>\n",
       "  <tbody>\n",
       "    <tr>\n",
       "      <th>881</th>\n",
       "      <td>Allen Barbre</td>\n",
       "      <td>60</td>\n",
       "      <td>ONS</td>\n",
       "      <td>76</td>\n",
       "      <td>300</td>\n",
       "      <td>4.84</td>\n",
       "      <td>32.0</td>\n",
       "      <td>28.0</td>\n",
       "      <td>105.0</td>\n",
       "      <td>0</td>\n",
       "      <td>0</td>\n",
       "      <td>1</td>\n",
       "      <td>0</td>\n",
       "      <td>bad</td>\n",
       "    </tr>\n",
       "    <tr>\n",
       "      <th>882</th>\n",
       "      <td>Robert Blanton</td>\n",
       "      <td>60</td>\n",
       "      <td>DS</td>\n",
       "      <td>73</td>\n",
       "      <td>208</td>\n",
       "      <td>4.66</td>\n",
       "      <td>34.0</td>\n",
       "      <td>12.0</td>\n",
       "      <td>116.0</td>\n",
       "      <td>0</td>\n",
       "      <td>1</td>\n",
       "      <td>0</td>\n",
       "      <td>0</td>\n",
       "      <td>bad</td>\n",
       "    </tr>\n",
       "    <tr>\n",
       "      <th>883</th>\n",
       "      <td>Alex Boone</td>\n",
       "      <td>60</td>\n",
       "      <td>ONS</td>\n",
       "      <td>79</td>\n",
       "      <td>328</td>\n",
       "      <td>5.16</td>\n",
       "      <td>27.5</td>\n",
       "      <td>33.0</td>\n",
       "      <td>103.0</td>\n",
       "      <td>0</td>\n",
       "      <td>0</td>\n",
       "      <td>1</td>\n",
       "      <td>0</td>\n",
       "      <td>bad</td>\n",
       "    </tr>\n",
       "    <tr>\n",
       "      <th>884</th>\n",
       "      <td>Jahri Evans</td>\n",
       "      <td>60</td>\n",
       "      <td>ONS</td>\n",
       "      <td>76</td>\n",
       "      <td>316</td>\n",
       "      <td>5.25</td>\n",
       "      <td>27.0</td>\n",
       "      <td>20.0</td>\n",
       "      <td>95.0</td>\n",
       "      <td>0</td>\n",
       "      <td>0</td>\n",
       "      <td>1</td>\n",
       "      <td>0</td>\n",
       "      <td>bad</td>\n",
       "    </tr>\n",
       "    <tr>\n",
       "      <th>885</th>\n",
       "      <td>Anthony Fasano</td>\n",
       "      <td>60</td>\n",
       "      <td>OS</td>\n",
       "      <td>76</td>\n",
       "      <td>259</td>\n",
       "      <td>4.72</td>\n",
       "      <td>33.5</td>\n",
       "      <td>19.0</td>\n",
       "      <td>112.0</td>\n",
       "      <td>0</td>\n",
       "      <td>0</td>\n",
       "      <td>0</td>\n",
       "      <td>1</td>\n",
       "      <td>bad</td>\n",
       "    </tr>\n",
       "  </tbody>\n",
       "</table>\n",
       "</div>"
      ],
      "text/plain": [
       "               Name  Rating  Pos  Ht   Wt  Forty  Vertical  BenchReps  \\\n",
       "881    Allen Barbre      60  ONS  76  300   4.84      32.0       28.0   \n",
       "882  Robert Blanton      60   DS  73  208   4.66      34.0       12.0   \n",
       "883      Alex Boone      60  ONS  79  328   5.16      27.5       33.0   \n",
       "884     Jahri Evans      60  ONS  76  316   5.25      27.0       20.0   \n",
       "885  Anthony Fasano      60   OS  76  259   4.72      33.5       19.0   \n",
       "\n",
       "     BroadJump  category_DNS  category_DS  category_ONS  category_OS categ  \n",
       "881      105.0             0            0             1            0   bad  \n",
       "882      116.0             0            1             0            0   bad  \n",
       "883      103.0             0            0             1            0   bad  \n",
       "884       95.0             0            0             1            0   bad  \n",
       "885      112.0             0            0             0            1   bad  "
      ]
     },
     "execution_count": 14,
     "metadata": {},
     "output_type": "execute_result"
    }
   ],
   "source": [
    "OHE_df.tail()"
   ]
  },
  {
   "cell_type": "markdown",
   "metadata": {
    "colab_type": "text",
    "id": "R6XzkKWlpqs_"
   },
   "source": [
    "For our first classification model, we tried a KNeighbors Classifier:"
   ]
  },
  {
   "cell_type": "code",
   "execution_count": 15,
   "metadata": {
    "colab": {
     "base_uri": "https://localhost:8080/",
     "height": 34
    },
    "colab_type": "code",
    "id": "f3s1Br-Jp3Un",
    "outputId": "07fbf816-73c0-4522-bea4-8d2656e6dd6b"
   },
   "outputs": [
    {
     "name": "stdout",
     "output_type": "stream",
     "text": [
      "KNeighbors accuracy score: 0.7865168539325843\n"
     ]
    }
   ],
   "source": [
    "from sklearn.metrics import accuracy_score\n",
    "from sklearn.neighbors import KNeighborsClassifier\n",
    "from sklearn.model_selection import train_test_split\n",
    "\n",
    "\n",
    "X = OHE_df.drop(['Name', 'Rating', 'Pos', 'categ'], axis=1)\n",
    "Y = OHE_df['categ']\n",
    "x_train, x_test, y_train, y_test = train_test_split(X, Y, test_size = .2, random_state = 13)\n",
    "model = KNeighborsClassifier(n_neighbors=7)\n",
    "model.fit(x_train, y_train)\n",
    "predictions = model.predict(x_test)\n",
    "\n",
    "print(\"KNeighbors accuracy score:\", accuracy_score(y_test, predictions))"
   ]
  },
  {
   "cell_type": "markdown",
   "metadata": {
    "colab_type": "text",
    "id": "fDS91VF494HM"
   },
   "source": [
    "This seemed like a promising jump in accuracy at first, but while playing around with this model, we found that almost any way we modified resulted in the same score. So we decided to print out our predictions:"
   ]
  },
  {
   "cell_type": "code",
   "execution_count": 16,
   "metadata": {
    "colab": {
     "base_uri": "https://localhost:8080/",
     "height": 323
    },
    "colab_type": "code",
    "id": "IFg1-j7N-Tux",
    "outputId": "99a62a33-776b-4b10-8d83-740b118eaeb9"
   },
   "outputs": [
    {
     "name": "stdout",
     "output_type": "stream",
     "text": [
      "['good' 'good' 'good' 'good' 'good' 'good' 'good' 'good' 'good' 'good'\n",
      " 'good' 'good' 'good' 'good' 'good' 'good' 'good' 'good' 'good' 'good'\n",
      " 'good' 'good' 'good' 'great' 'good' 'good' 'good' 'bad' 'good' 'good'\n",
      " 'good' 'good' 'good' 'good' 'good' 'good' 'good' 'good' 'good' 'good'\n",
      " 'good' 'great' 'good' 'good' 'good' 'good' 'good' 'good' 'good' 'good'\n",
      " 'good' 'good' 'good' 'good' 'good' 'good' 'good' 'good' 'good' 'good'\n",
      " 'good' 'good' 'great' 'good' 'good' 'good' 'good' 'good' 'good' 'good'\n",
      " 'good' 'good' 'good' 'good' 'good' 'good' 'good' 'good' 'bad' 'good'\n",
      " 'good' 'good' 'good' 'good' 'good' 'good' 'good' 'good' 'good' 'good'\n",
      " 'good' 'good' 'good' 'good' 'good' 'good' 'good' 'good' 'good' 'good'\n",
      " 'good' 'good' 'good' 'good' 'good' 'good' 'good' 'good' 'good' 'good'\n",
      " 'good' 'good' 'good' 'good' 'good' 'good' 'good' 'good' 'good' 'good'\n",
      " 'good' 'good' 'good' 'good' 'good' 'good' 'good' 'good' 'good' 'good'\n",
      " 'good' 'good' 'good' 'good' 'good' 'good' 'good' 'good' 'good' 'good'\n",
      " 'good' 'good' 'good' 'good' 'good' 'good' 'good' 'good' 'good' 'good'\n",
      " 'great' 'good' 'good' 'good' 'good' 'good' 'good' 'good' 'good' 'good'\n",
      " 'good' 'good' 'good' 'good' 'good' 'good' 'good' 'good' 'good' 'good'\n",
      " 'good' 'good' 'good' 'good' 'good' 'good' 'good' 'good']\n"
     ]
    }
   ],
   "source": [
    "print(predictions)"
   ]
  },
  {
   "cell_type": "markdown",
   "metadata": {
    "colab_type": "text",
    "id": "yo-QrJTJ-Xrh"
   },
   "source": [
    "And there was the problem — our middle bin was too large and the model was simply dumping all the players in there. To fix this, we decided to bin using the 33rd and 66th percentile, to get a more even distribution of data:"
   ]
  },
  {
   "cell_type": "code",
   "execution_count": 17,
   "metadata": {
    "colab": {
     "base_uri": "https://localhost:8080/",
     "height": 187
    },
    "colab_type": "code",
    "id": "un-UfWbTpZad",
    "outputId": "f5bbfd44-1192-460c-e577-81fdcd86b204"
   },
   "outputs": [
    {
     "name": "stderr",
     "output_type": "stream",
     "text": [
      "/Applications/anaconda3/lib/python3.6/site-packages/ipykernel_launcher.py:2: SettingWithCopyWarning: \n",
      "A value is trying to be set on a copy of a slice from a DataFrame\n",
      "\n",
      "See the caveats in the documentation: http://pandas.pydata.org/pandas-docs/stable/indexing.html#indexing-view-versus-copy\n",
      "  \n",
      "/Applications/anaconda3/lib/python3.6/site-packages/ipykernel_launcher.py:3: SettingWithCopyWarning: \n",
      "A value is trying to be set on a copy of a slice from a DataFrame\n",
      "\n",
      "See the caveats in the documentation: http://pandas.pydata.org/pandas-docs/stable/indexing.html#indexing-view-versus-copy\n",
      "  This is separate from the ipykernel package so we can avoid doing imports until\n"
     ]
    }
   ],
   "source": [
    "OHE_df['categ'] = 'great'\n",
    "OHE_df.categ[OHE_df.Rating < OHE_df.Rating.quantile(.66)] = 'good'\n",
    "OHE_df.categ[OHE_df.Rating < OHE_df.Rating.quantile(.33)] = 'bad'"
   ]
  },
  {
   "cell_type": "markdown",
   "metadata": {
    "colab_type": "text",
    "id": "Er0RVnra-v-B"
   },
   "source": [
    "We then ran the KNeighbors Classifier again:"
   ]
  },
  {
   "cell_type": "code",
   "execution_count": 18,
   "metadata": {
    "colab": {
     "base_uri": "https://localhost:8080/",
     "height": 340
    },
    "colab_type": "code",
    "id": "tUt9wckyshOC",
    "outputId": "51f75249-c248-4464-8162-37f85eb76563"
   },
   "outputs": [
    {
     "name": "stdout",
     "output_type": "stream",
     "text": [
      "sklearn's accuracy score: 0.39325842696629215\n",
      "['good' 'good' 'good' 'great' 'great' 'good' 'good' 'good' 'great' 'good'\n",
      " 'bad' 'good' 'great' 'great' 'bad' 'bad' 'bad' 'great' 'good' 'great'\n",
      " 'good' 'great' 'great' 'great' 'good' 'bad' 'great' 'bad' 'great' 'great'\n",
      " 'good' 'bad' 'bad' 'bad' 'bad' 'good' 'good' 'good' 'great' 'good'\n",
      " 'great' 'great' 'great' 'great' 'good' 'good' 'good' 'good' 'great' 'bad'\n",
      " 'bad' 'good' 'bad' 'great' 'good' 'bad' 'bad' 'great' 'bad' 'bad' 'bad'\n",
      " 'bad' 'great' 'great' 'bad' 'bad' 'bad' 'good' 'good' 'good' 'good'\n",
      " 'good' 'great' 'great' 'great' 'good' 'bad' 'good' 'bad' 'good' 'great'\n",
      " 'great' 'great' 'good' 'great' 'great' 'great' 'good' 'great' 'good'\n",
      " 'good' 'great' 'great' 'bad' 'great' 'good' 'great' 'bad' 'good' 'great'\n",
      " 'good' 'good' 'great' 'bad' 'bad' 'good' 'good' 'bad' 'bad' 'good' 'good'\n",
      " 'bad' 'good' 'good' 'good' 'good' 'good' 'great' 'bad' 'great' 'great'\n",
      " 'great' 'good' 'good' 'good' 'bad' 'bad' 'bad' 'great' 'bad' 'bad' 'good'\n",
      " 'bad' 'bad' 'great' 'good' 'bad' 'good' 'great' 'good' 'bad' 'great'\n",
      " 'good' 'good' 'bad' 'good' 'good' 'good' 'good' 'bad' 'great' 'bad'\n",
      " 'good' 'good' 'good' 'bad' 'great' 'good' 'great' 'bad' 'good' 'good'\n",
      " 'great' 'good' 'great' 'bad' 'good' 'bad' 'bad' 'good' 'great' 'bad'\n",
      " 'bad' 'good' 'great' 'great' 'bad' 'bad']\n"
     ]
    }
   ],
   "source": [
    "from sklearn.metrics import accuracy_score\n",
    "from sklearn.neighbors import KNeighborsClassifier\n",
    "from sklearn.model_selection import train_test_split\n",
    "\n",
    "\n",
    "X = OHE_df.drop(['Name', 'Rating', 'Pos', 'categ'], axis=1)\n",
    "Y = OHE_df['categ'] \n",
    "x_train, x_test, y_train, y_test = train_test_split(X, Y, test_size = .2, random_state = 13)\n",
    "model = KNeighborsClassifier(n_neighbors=7)\n",
    "model.fit(x_train, y_train)\n",
    "predictions = model.predict(x_test)\n",
    "score = accuracy_score(y_test, predictions)\n",
    "\n",
    "print(\"sklearn's accuracy score:\", score)\n",
    "print(predictions)"
   ]
  },
  {
   "cell_type": "markdown",
   "metadata": {
    "colab_type": "text",
    "id": "7R3qluGmtNh-"
   },
   "source": [
    "And we finally got a successful model, as this accuracy is technically better than just random guessing. In another bid to improve our accuracy, we tried a Decision Tree Classifier:"
   ]
  },
  {
   "cell_type": "code",
   "execution_count": 19,
   "metadata": {
    "colab": {
     "base_uri": "https://localhost:8080/",
     "height": 85
    },
    "colab_type": "code",
    "id": "ndINMNQVl18F",
    "outputId": "d139a60e-be12-4731-ce0f-57a8356b3b0b"
   },
   "outputs": [
    {
     "name": "stdout",
     "output_type": "stream",
     "text": [
      "DecisionTreeClassifier:\n",
      "    depth:  1\n",
      "    max training score:  0.384180790960452\n",
      "    max testing score:  0.4044943820224719\n"
     ]
    }
   ],
   "source": [
    "from sklearn.tree import DecisionTreeClassifier\n",
    "from sklearn.model_selection import train_test_split\n",
    "\n",
    "X = OHE_df.drop(['Name', 'Rating', 'Pos', 'categ'], axis=1)\n",
    "Y = OHE_df['categ']\n",
    "x_train, x_test, y_train, y_test = train_test_split(X, Y, test_size=.2, random_state=13 )\n",
    "\n",
    "\n",
    "train_scores = []\n",
    "test_scores = []\n",
    "\n",
    "max_depths = list(range(1,100))\n",
    "max_score_te = -1\n",
    "max_score_tr = -1\n",
    "depth = 0\n",
    "for i in max_depths:\n",
    "    model = DecisionTreeClassifier(max_depth=i)\n",
    "    model.fit(x_train, y_train)\n",
    "    test_score = model.score(x_test, y_test)\n",
    "    if test_score > max_score_te:\n",
    "        max_score_te = test_score\n",
    "        max_score_tr = model.score(x_train, y_train)\n",
    "        depth = i\n",
    "        predictions = model.predict(x_test)\n",
    "print('DecisionTreeClassifier:')\n",
    "print('    depth: ',depth)\n",
    "print('    max training score: ',max_score_tr)\n",
    "print('    max testing score: ',max_score_te)"
   ]
  },
  {
   "cell_type": "markdown",
   "metadata": {
    "colab_type": "text",
    "id": "r00oiATet4yp"
   },
   "source": [
    "And a final attempt was an svm gridsearch:"
   ]
  },
  {
   "cell_type": "code",
   "execution_count": 20,
   "metadata": {
    "colab": {
     "base_uri": "https://localhost:8080/",
     "height": 156
    },
    "colab_type": "code",
    "id": "Ec7nuJpSt9Yw",
    "outputId": "e5179b29-13b2-42cf-8ec3-56d422f88406"
   },
   "outputs": [
    {
     "name": "stdout",
     "output_type": "stream",
     "text": [
      "Model score for hard coded parameters:  0.34831460674157305\n",
      "\n",
      "\n",
      "Model score for grid search parameters:  0.38764044943820225\n",
      "C:  1 gamma:  0.01\n"
     ]
    }
   ],
   "source": [
    "from sklearn.model_selection import train_test_split, GridSearchCV\n",
    "from sklearn import svm, datasets\n",
    "from sklearn.model_selection import train_test_split\n",
    "\n",
    "X = OHE_df.drop(['Name', 'Rating', 'Pos', 'categ'], axis=1)\n",
    "Y = OHE_df['categ']\n",
    "X_train, X_test, Y_train, Y_test = train_test_split(X, Y, test_size=.2, random_state=13)\n",
    "\n",
    "\n",
    "\n",
    "model = svm.SVC(kernel='linear', C=0.01,gamma=1)\n",
    "model.fit(X_train, Y_train)\n",
    "model.predict(X_test)\n",
    "print(\"Model score for hard coded parameters: \", model.score(X_test,Y_test))\n",
    "print()\n",
    "\n",
    "# give the grid search options to iterate over\n",
    "Cs = [0.01, 0.1, 1, 10] # fill in this list with possible values you want to search over\n",
    "gammas = [0.01, 0.1, 1, 10] # fill in this list with possible values you want to search over\n",
    "param_grid = {'gamma': gammas, 'C':Cs} # fill in this dictionary. to contain Cs and gammas. \n",
    "                # See documentation for sklearn.model_selection.GridSearchCV for an example.\n",
    "\n",
    "# create the GridSearch model\n",
    "grid_search = GridSearchCV(svm.SVC(kernel='linear'), param_grid)\n",
    "# fit the model\n",
    "grid_search.fit(X_train, Y_train)\n",
    "\n",
    "# we use the grid search parameters\n",
    "model = svm.SVC(kernel='linear', C=grid_search.best_params_['C'],gamma=grid_search.best_params_['gamma'])\n",
    "model.fit(X_train, Y_train)\n",
    "model.predict(X_test)\n",
    "print()\n",
    "print(\"Model score for grid search parameters: \", model.score(X_test,Y_test))\n",
    "print('C: ',grid_search.best_params_['C'],'gamma: ',grid_search.best_params_['gamma'])"
   ]
  },
  {
   "cell_type": "markdown",
   "metadata": {
    "colab_type": "text",
    "id": "Kx1x3ZfxAGhl"
   },
   "source": [
    "Based on all of our attempted models, it seems like NFL Combine data alone is a somewhat inadequate predictor of actual NFL performance, at least when measured by Madden player ratings. At this point, we thought it would be interesting to explore whether our model was mostly overpredicting or underpredicting player performance."
   ]
  },
  {
   "cell_type": "code",
   "execution_count": 21,
   "metadata": {
    "colab": {
     "base_uri": "https://localhost:8080/",
     "height": 359
    },
    "colab_type": "code",
    "id": "dIKeUysKv3PY",
    "outputId": "4cdc4d1a-effd-4352-b30a-25cb3d29e2cb"
   },
   "outputs": [
    {
     "data": {
      "text/html": [
       "<div>\n",
       "<style scoped>\n",
       "    .dataframe tbody tr th:only-of-type {\n",
       "        vertical-align: middle;\n",
       "    }\n",
       "\n",
       "    .dataframe tbody tr th {\n",
       "        vertical-align: top;\n",
       "    }\n",
       "\n",
       "    .dataframe thead th {\n",
       "        text-align: right;\n",
       "    }\n",
       "</style>\n",
       "<table border=\"1\" class=\"dataframe\">\n",
       "  <thead>\n",
       "    <tr style=\"text-align: right;\">\n",
       "      <th></th>\n",
       "      <th>Name</th>\n",
       "      <th>Rating</th>\n",
       "      <th>categ</th>\n",
       "      <th>pred</th>\n",
       "      <th>correct</th>\n",
       "    </tr>\n",
       "  </thead>\n",
       "  <tbody>\n",
       "    <tr>\n",
       "      <th>731</th>\n",
       "      <td>Chase Edmonds</td>\n",
       "      <td>68</td>\n",
       "      <td>bad</td>\n",
       "      <td>great</td>\n",
       "      <td>0</td>\n",
       "    </tr>\n",
       "    <tr>\n",
       "      <th>224</th>\n",
       "      <td>Andy Levitre</td>\n",
       "      <td>80</td>\n",
       "      <td>great</td>\n",
       "      <td>good</td>\n",
       "      <td>0</td>\n",
       "    </tr>\n",
       "    <tr>\n",
       "      <th>460</th>\n",
       "      <td>Kevin Minter</td>\n",
       "      <td>74</td>\n",
       "      <td>good</td>\n",
       "      <td>good</td>\n",
       "      <td>1</td>\n",
       "    </tr>\n",
       "    <tr>\n",
       "      <th>745</th>\n",
       "      <td>Duke Riley</td>\n",
       "      <td>68</td>\n",
       "      <td>bad</td>\n",
       "      <td>great</td>\n",
       "      <td>0</td>\n",
       "    </tr>\n",
       "    <tr>\n",
       "      <th>601</th>\n",
       "      <td>Joel Iyiegbuniwe</td>\n",
       "      <td>71</td>\n",
       "      <td>good</td>\n",
       "      <td>great</td>\n",
       "      <td>0</td>\n",
       "    </tr>\n",
       "    <tr>\n",
       "      <th>384</th>\n",
       "      <td>Brandon Mebane</td>\n",
       "      <td>76</td>\n",
       "      <td>good</td>\n",
       "      <td>good</td>\n",
       "      <td>1</td>\n",
       "    </tr>\n",
       "    <tr>\n",
       "      <th>63</th>\n",
       "      <td>Steve Hutchinson</td>\n",
       "      <td>90</td>\n",
       "      <td>great</td>\n",
       "      <td>good</td>\n",
       "      <td>0</td>\n",
       "    </tr>\n",
       "    <tr>\n",
       "      <th>871</th>\n",
       "      <td>David Harris</td>\n",
       "      <td>61</td>\n",
       "      <td>bad</td>\n",
       "      <td>good</td>\n",
       "      <td>0</td>\n",
       "    </tr>\n",
       "    <tr>\n",
       "      <th>780</th>\n",
       "      <td>John Wetzel</td>\n",
       "      <td>67</td>\n",
       "      <td>bad</td>\n",
       "      <td>good</td>\n",
       "      <td>0</td>\n",
       "    </tr>\n",
       "    <tr>\n",
       "      <th>831</th>\n",
       "      <td>Ethan Cooper</td>\n",
       "      <td>64</td>\n",
       "      <td>bad</td>\n",
       "      <td>good</td>\n",
       "      <td>0</td>\n",
       "    </tr>\n",
       "  </tbody>\n",
       "</table>\n",
       "</div>"
      ],
      "text/plain": [
       "                 Name  Rating  categ   pred  correct\n",
       "731     Chase Edmonds      68    bad  great        0\n",
       "224      Andy Levitre      80  great   good        0\n",
       "460      Kevin Minter      74   good   good        1\n",
       "745        Duke Riley      68    bad  great        0\n",
       "601  Joel Iyiegbuniwe      71   good  great        0\n",
       "384    Brandon Mebane      76   good   good        1\n",
       "63   Steve Hutchinson      90  great   good        0\n",
       "871      David Harris      61    bad   good        0\n",
       "780       John Wetzel      67    bad   good        0\n",
       "831      Ethan Cooper      64    bad   good        0"
      ]
     },
     "execution_count": 21,
     "metadata": {},
     "output_type": "execute_result"
    }
   ],
   "source": [
    "indeces = list(X_test.index)\n",
    "a = OHE_df.loc[indeces,:]\n",
    "a['pred'] = predictions\n",
    "a.drop(['Pos','Ht','Wt','Forty','Vertical','BenchReps','BroadJump','category_DNS','category_DS','category_ONS','category_OS'],axis=1,inplace=True)\n",
    "a['correct'] = np.where(a.categ == a.pred, 1, 0)\n",
    "a.head(10)"
   ]
  },
  {
   "cell_type": "code",
   "execution_count": 22,
   "metadata": {
    "colab": {
     "base_uri": "https://localhost:8080/",
     "height": 34
    },
    "colab_type": "code",
    "id": "7omJ4ZAfyId9",
    "outputId": "f8d74823-bfcb-4ddd-95b3-b93843b32483"
   },
   "outputs": [
    {
     "name": "stdout",
     "output_type": "stream",
     "text": [
      "We got  72 out of  178 players correct\n"
     ]
    }
   ],
   "source": [
    "print('We got ',a['correct'].sum(),'out of ',len(a),'players correct')"
   ]
  },
  {
   "cell_type": "markdown",
   "metadata": {
    "colab_type": "text",
    "id": "eDvpEID-zz1j"
   },
   "source": [
    "To do this, we categorized the players in our predicted test set from our best model, the Decision Tree Classifier, into the following categories:\n",
    "\n",
    "*   Underpredicted by 2, for example if we predicted a 'great' player to be 'bad'\n",
    "\n",
    "*   Underpredicted by 1, for example if we predicted a 'great' player to be 'good'\n",
    "\n",
    "*   Correct, meaning our prediction matched the player's actual category\n",
    "\n",
    "*   Overpredicted by 1, for example if we predicted a 'good' player to be 'great'\n",
    "\n",
    "*   Overpredicted by 2, for example if we predicted a 'bad' player to be 'great'"
   ]
  },
  {
   "cell_type": "code",
   "execution_count": 23,
   "metadata": {
    "colab": {},
    "colab_type": "code",
    "id": "Um8mvJKYBOcd"
   },
   "outputs": [
    {
     "name": "stderr",
     "output_type": "stream",
     "text": [
      "/Applications/anaconda3/lib/python3.6/site-packages/ipykernel_launcher.py:2: SettingWithCopyWarning: \n",
      "A value is trying to be set on a copy of a slice from a DataFrame\n",
      "\n",
      "See the caveats in the documentation: http://pandas.pydata.org/pandas-docs/stable/indexing.html#indexing-view-versus-copy\n",
      "  \n",
      "/Applications/anaconda3/lib/python3.6/site-packages/ipykernel_launcher.py:3: SettingWithCopyWarning: \n",
      "A value is trying to be set on a copy of a slice from a DataFrame\n",
      "\n",
      "See the caveats in the documentation: http://pandas.pydata.org/pandas-docs/stable/indexing.html#indexing-view-versus-copy\n",
      "  This is separate from the ipykernel package so we can avoid doing imports until\n",
      "/Applications/anaconda3/lib/python3.6/site-packages/ipykernel_launcher.py:4: SettingWithCopyWarning: \n",
      "A value is trying to be set on a copy of a slice from a DataFrame\n",
      "\n",
      "See the caveats in the documentation: http://pandas.pydata.org/pandas-docs/stable/indexing.html#indexing-view-versus-copy\n",
      "  after removing the cwd from sys.path.\n",
      "/Applications/anaconda3/lib/python3.6/site-packages/ipykernel_launcher.py:5: SettingWithCopyWarning: \n",
      "A value is trying to be set on a copy of a slice from a DataFrame\n",
      "\n",
      "See the caveats in the documentation: http://pandas.pydata.org/pandas-docs/stable/indexing.html#indexing-view-versus-copy\n",
      "  \"\"\"\n",
      "/Applications/anaconda3/lib/python3.6/site-packages/ipykernel_launcher.py:6: SettingWithCopyWarning: \n",
      "A value is trying to be set on a copy of a slice from a DataFrame\n",
      "\n",
      "See the caveats in the documentation: http://pandas.pydata.org/pandas-docs/stable/indexing.html#indexing-view-versus-copy\n",
      "  \n",
      "/Applications/anaconda3/lib/python3.6/site-packages/ipykernel_launcher.py:7: SettingWithCopyWarning: \n",
      "A value is trying to be set on a copy of a slice from a DataFrame\n",
      "\n",
      "See the caveats in the documentation: http://pandas.pydata.org/pandas-docs/stable/indexing.html#indexing-view-versus-copy\n",
      "  import sys\n",
      "/Applications/anaconda3/lib/python3.6/site-packages/ipykernel_launcher.py:8: SettingWithCopyWarning: \n",
      "A value is trying to be set on a copy of a slice from a DataFrame\n",
      "\n",
      "See the caveats in the documentation: http://pandas.pydata.org/pandas-docs/stable/indexing.html#indexing-view-versus-copy\n",
      "  \n",
      "/Applications/anaconda3/lib/python3.6/site-packages/ipykernel_launcher.py:9: SettingWithCopyWarning: \n",
      "A value is trying to be set on a copy of a slice from a DataFrame\n",
      "\n",
      "See the caveats in the documentation: http://pandas.pydata.org/pandas-docs/stable/indexing.html#indexing-view-versus-copy\n",
      "  if __name__ == '__main__':\n",
      "/Applications/anaconda3/lib/python3.6/site-packages/ipykernel_launcher.py:10: SettingWithCopyWarning: \n",
      "A value is trying to be set on a copy of a slice from a DataFrame\n",
      "\n",
      "See the caveats in the documentation: http://pandas.pydata.org/pandas-docs/stable/indexing.html#indexing-view-versus-copy\n",
      "  # Remove the CWD from sys.path while we load stuff.\n"
     ]
    }
   ],
   "source": [
    "a['compare'] = ''\n",
    "a.compare[(a.pred == 'bad') & (a.categ == 'great')] = 'under2'\n",
    "a.compare[(a.pred == 'good') & (a.categ == 'great')] = 'under1'\n",
    "a.compare[(a.pred == 'bad') & (a.categ == 'good')] = 'under1'\n",
    "a.compare[(a.pred == 'bad') & (a.categ == 'bad')] = 'correct'\n",
    "a.compare[(a.pred == 'good') & (a.categ == 'good')] = 'correct'\n",
    "a.compare[(a.pred == 'great') & (a.categ == 'great')] = 'correct'\n",
    "a.compare[(a.pred == 'great') & (a.categ == 'good')] = 'over1'\n",
    "a.compare[(a.pred == 'good') & (a.categ == 'bad')] = 'over1'\n",
    "a.compare[(a.pred == 'great') & (a.categ == 'bad')] = 'over2'"
   ]
  },
  {
   "cell_type": "code",
   "execution_count": 24,
   "metadata": {
    "colab": {
     "base_uri": "https://localhost:8080/",
     "height": 204
    },
    "colab_type": "code",
    "id": "bGv1_RIEBJ33",
    "outputId": "2c147380-e8b8-4825-beb2-a527a9287dde"
   },
   "outputs": [
    {
     "data": {
      "text/html": [
       "<div>\n",
       "<style scoped>\n",
       "    .dataframe tbody tr th:only-of-type {\n",
       "        vertical-align: middle;\n",
       "    }\n",
       "\n",
       "    .dataframe tbody tr th {\n",
       "        vertical-align: top;\n",
       "    }\n",
       "\n",
       "    .dataframe thead th {\n",
       "        text-align: right;\n",
       "    }\n",
       "</style>\n",
       "<table border=\"1\" class=\"dataframe\">\n",
       "  <thead>\n",
       "    <tr style=\"text-align: right;\">\n",
       "      <th></th>\n",
       "      <th>Name</th>\n",
       "      <th>Rating</th>\n",
       "      <th>categ</th>\n",
       "      <th>pred</th>\n",
       "      <th>correct</th>\n",
       "      <th>compare</th>\n",
       "    </tr>\n",
       "  </thead>\n",
       "  <tbody>\n",
       "    <tr>\n",
       "      <th>731</th>\n",
       "      <td>Chase Edmonds</td>\n",
       "      <td>68</td>\n",
       "      <td>bad</td>\n",
       "      <td>great</td>\n",
       "      <td>0</td>\n",
       "      <td>over2</td>\n",
       "    </tr>\n",
       "    <tr>\n",
       "      <th>224</th>\n",
       "      <td>Andy Levitre</td>\n",
       "      <td>80</td>\n",
       "      <td>great</td>\n",
       "      <td>good</td>\n",
       "      <td>0</td>\n",
       "      <td>under1</td>\n",
       "    </tr>\n",
       "    <tr>\n",
       "      <th>460</th>\n",
       "      <td>Kevin Minter</td>\n",
       "      <td>74</td>\n",
       "      <td>good</td>\n",
       "      <td>good</td>\n",
       "      <td>1</td>\n",
       "      <td>correct</td>\n",
       "    </tr>\n",
       "    <tr>\n",
       "      <th>745</th>\n",
       "      <td>Duke Riley</td>\n",
       "      <td>68</td>\n",
       "      <td>bad</td>\n",
       "      <td>great</td>\n",
       "      <td>0</td>\n",
       "      <td>over2</td>\n",
       "    </tr>\n",
       "    <tr>\n",
       "      <th>601</th>\n",
       "      <td>Joel Iyiegbuniwe</td>\n",
       "      <td>71</td>\n",
       "      <td>good</td>\n",
       "      <td>great</td>\n",
       "      <td>0</td>\n",
       "      <td>over1</td>\n",
       "    </tr>\n",
       "  </tbody>\n",
       "</table>\n",
       "</div>"
      ],
      "text/plain": [
       "                 Name  Rating  categ   pred  correct  compare\n",
       "731     Chase Edmonds      68    bad  great        0    over2\n",
       "224      Andy Levitre      80  great   good        0   under1\n",
       "460      Kevin Minter      74   good   good        1  correct\n",
       "745        Duke Riley      68    bad  great        0    over2\n",
       "601  Joel Iyiegbuniwe      71   good  great        0    over1"
      ]
     },
     "execution_count": 24,
     "metadata": {},
     "output_type": "execute_result"
    }
   ],
   "source": [
    "a.head()"
   ]
  },
  {
   "cell_type": "code",
   "execution_count": 25,
   "metadata": {
    "colab": {
     "base_uri": "https://localhost:8080/",
     "height": 102
    },
    "colab_type": "code",
    "id": "KFpQuEP9Fi5c",
    "outputId": "0ee7c494-dcc9-46a8-e652-c16e74e5cf3e"
   },
   "outputs": [
    {
     "data": {
      "text/plain": [
       "correct    72\n",
       "over1      57\n",
       "under1     30\n",
       "over2      19\n",
       "Name: compare, dtype: int64"
      ]
     },
     "execution_count": 25,
     "metadata": {},
     "output_type": "execute_result"
    }
   ],
   "source": [
    "a['compare'].value_counts()"
   ]
  },
  {
   "cell_type": "code",
   "execution_count": 26,
   "metadata": {
    "colab": {
     "base_uri": "https://localhost:8080/",
     "height": 281
    },
    "colab_type": "code",
    "id": "wX8fDhi8GI-2",
    "outputId": "4814ff38-1868-4673-f96e-0a1fe120805b"
   },
   "outputs": [
    {
     "data": {
      "image/png": "[encoded data removed]",
      "text/plain": [
       "<Figure size 432x288 with 1 Axes>"
      ]
     },
     "metadata": {},
     "output_type": "display_data"
    }
   ],
   "source": [
    "plt.bar([0,1,2,3,4],[0,30,72,57,19],align='center')\n",
    "\n",
    "plt.title('Frequency of Over/Underestimates')\n",
    "plt.xticks([0,1,2,3,4],['Under by 2','Under by 1','Correct','Over by 1','Over by 2'])\n",
    "plt.ylabel('Frequency')\n",
    "\n",
    "plt.show()"
   ]
  },
  {
   "cell_type": "markdown",
   "metadata": {
    "colab_type": "text",
    "id": "M8vxLgBJIQIC"
   },
   "source": [
    "This graph offers an interesting insight into how our model performed. It seems as though we were good at ensuring that players who were 'great' in reality weren't ever classified as 'bad', i.e. we didn't underpredict anyone by two categories. On the other hand, we overpredicted more players than we actually got correct. Relating this to real life, an explanation could be that for a player to enter the NFL Combine in the first place, they have already exceeded a certain physical threshold that comes along with being an almost-professional athlete. In this way, it could be hard to discern which players are actually 'great' when most players' physical performances in the Combine are on par with or exceed that of 'great' players. In conclusion, predicting NFL players' performance based solely on their Combine data proved to be difficult, probably for the aforementioned reason, however we were able to provide a model that was an improvement over guessing to help categorize players into their likeliest category of 'bad', 'good', or 'great'."
   ]
  },
  {
   "cell_type": "code",
   "execution_count": null,
   "metadata": {},
   "outputs": [],
   "source": []
  }
 ],
 "metadata": {
  "colab": {
   "collapsed_sections": [],
   "name": "MLproject.ipynb",
   "provenance": []
  },
  "kernelspec": {
   "display_name": "Python 3",
   "language": "python",
   "name": "python3"
  },
  "language_info": {
   "codemirror_mode": {
    "name": "ipython",
    "version": 3
   },
   "file_extension": ".py",
   "mimetype": "text/x-python",
   "name": "python",
   "nbconvert_exporter": "python",
   "pygments_lexer": "ipython3",
   "version": "3.6.5"
  }
 },
 "nbformat": 4,
 "nbformat_minor": 1
}
